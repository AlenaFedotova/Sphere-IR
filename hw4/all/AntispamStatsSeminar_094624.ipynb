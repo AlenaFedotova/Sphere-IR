{
 "cells": [
  {
   "cell_type": "markdown",
   "metadata": {},
   "source": [
    "# ** Описание **"
   ]
  },
  {
   "cell_type": "raw",
   "metadata": {},
   "source": [
    "Построить графики распределения в спам и не спам множествах следующих признаков:\n",
    "\n",
    "1\tКоличество слов на странице\n",
    "2\tСредняя длина слова\n",
    "3\tКоличество слов в заголовке страниц (слова в теге <html><head><title> Some text </title>)\n",
    "4\tКоличество слов в анкорах ссылок (<html><body><a> Some text </a>)\n",
    "5\tКоэффициент сжатия\n",
    "\n",
    "Нужно посчитать статистику минимум по трем признакам и обязательно сделать для 1-го и 2-го признаков\n",
    "\n",
    "И отправить первое решение в соревнование https://kaggle.com/join/antispam_infopoisk\n",
    "На основании одного из указанных выше признаков попытаться разделить мн-во, так чтобы score в соревновании был больше 0.55\n",
    "\n",
    "При выполнении всех этих условия в течении семинара +1 балл к ДЗ\n",
    "\n",
    "Описание ДЗ и правил выставления за него баллов в https://inclass.kaggle.com/c/antispam-infopoisk  \n",
    "Сроки ДЗ уточнить у преподователя - обычно 2 недели"
   ]
  },
  {
   "cell_type": "code",
   "execution_count": 1,
   "metadata": {},
   "outputs": [],
   "source": [
    "from __future__ import division\n",
    "\n",
    "import base64\n",
    "import csv\n",
    "import gzip\n",
    "import zlib\n",
    "import sys\n",
    "from importlib import reload\n",
    "import numpy as np\n",
    "import torch\n",
    "from torch import nn\n",
    "from torchvision import transforms\n",
    "from torch.utils.data import DataLoader, Dataset\n",
    "from sklearn.model_selection import train_test_split\n",
    "from sklearn.feature_extraction.text import TfidfVectorizer\n",
    "\n",
    "from collections import namedtuple\n",
    "\n",
    "%matplotlib inline\n",
    "import matplotlib.pyplot as plt"
   ]
  },
  {
   "cell_type": "code",
   "execution_count": 2,
   "metadata": {},
   "outputs": [],
   "source": [
    "TRACE_NUM = 1000\n",
    "import logging\n",
    "reload(logging)\n",
    "logging.basicConfig(format='%(asctime)s %(levelname)s:%(message)s', level=logging.INFO, datefmt='%H:%M:%S')\n",
    "\n",
    "def trace(items_num, trace_num=TRACE_NUM):\n",
    "    if items_num % trace_num == 0: logging.info(\"Complete items %05d\" % items_num)"
   ]
  },
  {
   "cell_type": "markdown",
   "metadata": {},
   "source": [
    "### Утилиты"
   ]
  },
  {
   "cell_type": "markdown",
   "metadata": {},
   "source": [
    "#### Декораторы"
   ]
  },
  {
   "cell_type": "code",
   "execution_count": 3,
   "metadata": {},
   "outputs": [],
   "source": [
    "def to_utf8(text):\n",
    "    if isinstance(text, str): \n",
    "        text = text.encode('utf8')\n",
    "    return text\n",
    "\n",
    "def convert2unicode(f):\n",
    "    def tmp(text):\n",
    "        if not isinstance(text, str): \n",
    "            try:\n",
    "                text = text.decode('utf8')\n",
    "            except UnicodeDecodeError:\n",
    "                try:\n",
    "                    text = text.decode('cp1251')\n",
    "                except UnicodeDecodeError:\n",
    "                    text = text.decode('koi8_r')\n",
    "        return f(text)\n",
    "    return tmp\n",
    "\n",
    "def convert2lower(f):\n",
    "    def tmp(text):        \n",
    "        return f(text.lower())\n",
    "    return tmp\n",
    "\n",
    "#P.S. Декораторы могут усложнять отладку, так что от них вполне можно отказаться и воспользоваться copy-paste"
   ]
  },
  {
   "cell_type": "markdown",
   "metadata": {},
   "source": [
    "### Извлечение текста из html"
   ]
  },
  {
   "cell_type": "markdown",
   "metadata": {},
   "source": [
    "#### Извлечение текста при помощи встроенных модулей"
   ]
  },
  {
   "cell_type": "code",
   "execution_count": 4,
   "metadata": {},
   "outputs": [],
   "source": [
    "from html.parser import HTMLParser\n",
    "import re\n",
    "\n",
    "###Извлечение текста из title можно вписать сюда\n",
    "\n",
    "class TextHTMLParser(HTMLParser):\n",
    "    def __init__(self):\n",
    "        HTMLParser.__init__(self)\n",
    "        self._text = []\n",
    "        self._title = []\n",
    "        self._a = []\n",
    "        self._in_title = False\n",
    "        self._in_a = False\n",
    "\n",
    "    def handle_data(self, data):\n",
    "        text = data.strip()\n",
    "        if len(text) > 0:\n",
    "            text = re.sub('[ \\t\\r\\n]+', ' ', text)\n",
    "            self._text.append(text + ' ')\n",
    "            if self._in_title:\n",
    "                self._title.append(text + ' ')\n",
    "            if self._in_a:\n",
    "                self._a.append(text + ' ')\n",
    "\n",
    "    def handle_starttag(self, tag, attrs):\n",
    "        if tag == 'p':\n",
    "            self._text.append('\\n\\n')\n",
    "        elif tag == 'br':\n",
    "            self._text.append('\\n')\n",
    "        elif tag == 'title':\n",
    "            self._in_title = True\n",
    "        elif tag == 'a':\n",
    "            self._in_a = True\n",
    "\n",
    "    def handle_endtag(self, tag):\n",
    "        if tag == 'title':\n",
    "            self._in_title = False\n",
    "        elif tag == 'a':\n",
    "            self._in_a = False\n",
    "\n",
    "    def handle_startendtag(self, tag, attrs):\n",
    "        if tag == 'br':\n",
    "            self._text.append('\\n\\n')\n",
    "\n",
    "    def text(self):\n",
    "        return ''.join(self._text).strip(), ''.join(self._title).strip(), ''.join(self._a).strip()\n",
    "\n",
    "@convert2unicode\n",
    "def html2text_parser(text):\n",
    "    parser = TextHTMLParser()\n",
    "    parser.feed(text)\n",
    "    return parser.text()"
   ]
  },
  {
   "cell_type": "markdown",
   "metadata": {},
   "source": [
    "#### Извлечение текста при помощи дополнительных библиотек"
   ]
  },
  {
   "cell_type": "code",
   "execution_count": 5,
   "metadata": {},
   "outputs": [],
   "source": [
    "def html2text_bs(raw_html):\n",
    "    from bs4 import BeautifulSoup\n",
    "    \"\"\"\n",
    "    Тут производится извлечения из html текста\n",
    "    \"\"\"\n",
    "    soup = BeautifulSoup(raw_html, \"html.parser\")\n",
    "    [s.extract() for s in soup(['script', 'style'])]\n",
    "    return soup.get_text()\n",
    "\n",
    "def html2text_bs_visible(raw_html):\n",
    "    from bs4 import BeautifulSoup\n",
    "    \"\"\"\n",
    "    Тут производится извлечения из html текста, который видим пользователю\n",
    "    \"\"\"\n",
    "    soup = BeautifulSoup(raw_html, \"html.parser\")    \n",
    "    [s.extract() for s in soup(['style', 'script', '[document]', 'head', 'title'])]\n",
    "    return soup.get_text()\n",
    "\n",
    "def html2text_boilerpipe(raw_html):\n",
    "    import boilerpipe\n",
    "    \"\"\"\n",
    "    еще одна библиотека очень хорошо извлекающая именно видимый пользователю текст,\n",
    "    но она завязана на java\n",
    "    \"\"\"\n",
    "    pass"
   ]
  },
  {
   "cell_type": "markdown",
   "metadata": {},
   "source": [
    "#### Выбираем какой метод для конвертации html в текст будет основным"
   ]
  },
  {
   "cell_type": "code",
   "execution_count": 6,
   "metadata": {},
   "outputs": [],
   "source": [
    "#html2text = html2text_bs\n",
    "html2text = html2text_parser"
   ]
  },
  {
   "cell_type": "markdown",
   "metadata": {},
   "source": [
    "#### Методы для токенизации текста"
   ]
  },
  {
   "cell_type": "code",
   "execution_count": 7,
   "metadata": {},
   "outputs": [],
   "source": [
    "@convert2lower\n",
    "@convert2unicode\n",
    "def easy_tokenizer(text):\n",
    "    word = str()\n",
    "    for symbol in text:\n",
    "        if symbol.isalnum(): word += symbol\n",
    "        elif word:\n",
    "            yield word\n",
    "            word = str()\n",
    "    if word: yield word\n",
    "\n",
    "PYMORPHY_CACHE = {}\n",
    "MORPH = None\n",
    "#hint, чтобы установка pymorphy2 не была бы обязательной\n",
    "def get_lemmatizer():\n",
    "    import pymorphy2\n",
    "    global MORPH\n",
    "    if MORPH is None: MORPH = pymorphy2.MorphAnalyzer()\n",
    "    return MORPH\n",
    "\n",
    "@convert2lower\n",
    "@convert2unicode\n",
    "def pymorphy_tokenizer(text):\n",
    "    global PYMORPHY_CACHE\n",
    "    for word in easy_tokenizer(text):\n",
    "        word_hash = hash(word)\n",
    "        if word_hash not in PYMORPHY_CACHE:\n",
    "            PYMORPHY_CACHE[word_hash] = get_lemmatizer().parse(word)[0].normal_form            \n",
    "        yield PYMORPHY_CACHE[word_hash]"
   ]
  },
  {
   "cell_type": "markdown",
   "metadata": {},
   "source": [
    "#### Основная функция, которая вызывается для преобразования html в список слов"
   ]
  },
  {
   "cell_type": "code",
   "execution_count": 8,
   "metadata": {},
   "outputs": [],
   "source": [
    "def html2word(raw_html, to_text=html2text, tokenizer=easy_tokenizer):\n",
    "    text, title, a = to_text(raw_html)\n",
    "    text = tokenizer(text.lower())\n",
    "    title = tokenizer(title.lower())\n",
    "    a = tokenizer(a.lower())\n",
    "    return text, title, a"
   ]
  },
  {
   "cell_type": "markdown",
   "metadata": {},
   "source": [
    "#### Рассчет финальных метрик"
   ]
  },
  {
   "cell_type": "code",
   "execution_count": 9,
   "metadata": {},
   "outputs": [],
   "source": [
    "def safe_divide(a, b):\n",
    "    if a == 0: return 0.0\n",
    "    elif b == 0: return 0.0\n",
    "    else: return a / b\n",
    "\n",
    "def calculate_metrics(predictions, threshold):    \n",
    "    \"\"\"\n",
    "    Функция подсчета метрик\n",
    "    Параметры\n",
    "    predictions - ранки по документам\n",
    "    threshold  - порог для метрик\n",
    "    \"\"\"\n",
    "    true_positive = 0\n",
    "    false_positive = 0\n",
    "    true_negative = 0\n",
    "    false_negative = 0\n",
    "    for (url_id, mark, url, prediction) in predictions:        \n",
    "        mark_predict = prediction > threshold\n",
    "\n",
    "        if mark_predict:                     \n",
    "            if mark_predict == mark: true_positive += 1\n",
    "            else: false_positive += 1                    \n",
    "        else:                     \n",
    "            if  mark_predict == mark: true_negative += 1\n",
    "            else: false_negative += 1\n",
    "\n",
    "    class_prec  = safe_divide(true_positive, true_positive + false_positive)\n",
    "    class_recall = safe_divide(true_positive, true_positive + false_negative)\n",
    "        \n",
    "    class_F1 = safe_divide(2 * class_prec * class_recall, class_prec + class_recall)\n",
    "    \n",
    "    \n",
    "    not_class_prec = safe_divide(true_negative, true_negative + false_negative)\n",
    "    not_class_recall = safe_divide(true_negative, true_negative + false_positive)\n",
    "    \n",
    "    not_class_F1 = safe_divide(2 * not_class_prec * not_class_recall, not_class_prec + not_class_recall)\n",
    "    \n",
    "    return ( (class_prec, class_recall, class_F1), (not_class_prec, not_class_recall, not_class_F1) )\n",
    "\n",
    "def arange(start, stop, step):\n",
    "    cur_value = start\n",
    "    while True:\n",
    "        if cur_value > stop: break\n",
    "        yield cur_value\n",
    "        cur_value += step\n",
    "\n",
    "def plot_results(docs, min_threshold=-1, max_threshold=1, step=0.1, trace=False):\n",
    "    x = []\n",
    "    y_p = []\n",
    "    y_n = []\n",
    "    docs_predictions = classifier.predict_all(docs)\n",
    "    for threshold in arange(min_threshold, max_threshold, step):\n",
    "        r = calculate_metrics(docs_predictions, threshold)\n",
    "        x.append(threshold)\n",
    "        y_p.append(r[0])\n",
    "        y_n.append(r[1])        \n",
    "        if trace: \n",
    "            print('threshold %s' % threshold)\n",
    "            print('\\tclass_prec %s, class_recall %s, class_F1 %s' % r[0])\n",
    "            print('\\tnot_class_prec %s, not_class_recall %s, not_class_F1 %s' % r[1])\n",
    "            print('\\t\\tMacroF1Mesure %s' % ((r[0][2] + r[1][2])/2))\n",
    "    plot_stats(x, y_p, \"Class Result\")\n",
    "    plot_stats(x, y_n, \"Not class Result\")    \n",
    "\n",
    "\n",
    "def plot_stats(x, y, title):\n",
    "    plt.figure(figsize=(10, 5))\n",
    "\n",
    "    prec, = plt.plot( x, \n",
    "                     [k[0] for k in y], \"r\", label='Precision', \n",
    "                     linewidth=1)\n",
    "    accur, = plt.plot( x, \n",
    "                      [k[1] for k in y], \"b\", label='Recall',\n",
    "                      linewidth=1)\n",
    "    f1, =    plt.plot( x, \n",
    "                      [k[2] for k in y], \"g\", label='F1',\n",
    "                      linewidth=1)\n",
    "    plt.grid(True)\n",
    "    plt.legend(handles=[prec, accur, f1])\n",
    "    plt.title(title)\n",
    "    plt.show()"
   ]
  },
  {
   "cell_type": "code",
   "execution_count": 10,
   "metadata": {},
   "outputs": [],
   "source": [
    "def calc_features(url, html_data):\n",
    "    words, title, a = html2word(html_data)\n",
    "    words = list(words)\n",
    "    title = list(title)\n",
    "    a = list(a)\n",
    "    words_num = len(words)\n",
    "    avg_word_len = 0\n",
    "    title_words_num = len(title)    \n",
    "    anchor_words_num = len(a)\n",
    "    compression_level = 0\n",
    "    \n",
    "    for word in words:\n",
    "        avg_word_len += len(word)\n",
    "    avg_word_len /= words_num\n",
    "    \n",
    "    text = ' '.join(words)\n",
    "    compr = zlib.compress(bytes(text.encode()))\n",
    "    compression_level = safe_divide(sys.getsizeof(text), sys.getsizeof(compr))\n",
    "    \n",
    "    return [words_num, avg_word_len, title_words_num, anchor_words_num, compression_level, ' '.join(words), ' '.join(title), ' '.join(a)]"
   ]
  },
  {
   "cell_type": "code",
   "execution_count": 11,
   "metadata": {},
   "outputs": [
    {
     "name": "stdout",
     "output_type": "stream",
     "text": [
      "[8, 3.5, 2, 2, 1.6941176470588235, 'заголовок ololo спам 1 2 3 spam com', 'заголовок ololo', 'spam com']\n"
     ]
    }
   ],
   "source": [
    "test_html_data = u'''\n",
    "<html>\n",
    "<title> Заголовок Ololo </title>\n",
    "спам 1 2 3\n",
    "<a>\n",
    "spam.com\n",
    "</a>\n",
    "</html>\n",
    "'''\n",
    "test_url = 'http://ololo'\n",
    "test_features = calc_features(test_url, test_html_data)\n",
    "print(test_features)"
   ]
  },
  {
   "cell_type": "code",
   "execution_count": 12,
   "metadata": {},
   "outputs": [],
   "source": [
    "DocItem = namedtuple('DocItem', ['doc_id', 'is_spam', 'url', 'features'])\n",
    "\n",
    "def load_csv(train_input_file_name, test_input_file_name, calc_features_f):    \n",
    "    \"\"\"\n",
    "    Загружаем данные и извлекаем на лету признаки\n",
    "    Сам контент не сохраняется, чтобы уменьшить потребление памяти - чтобы\n",
    "    можно было запускать даже на ноутбуках в классе\n",
    "    \"\"\"\n",
    "    train_docs = []\n",
    "    test_docs = []\n",
    "    # if input_file_name.endswith('gz') else open(input_file_name) :            \n",
    "    with gzip.open(train_input_file_name) as input_file: \n",
    "        headers = input_file.readline()\n",
    "        for i, line in enumerate(input_file):\n",
    "            trace(i)\n",
    "            parts = line.strip().split(b'\\t')\n",
    "            url_id = int(parts[0])\n",
    "            mark = bool(int(parts[1]))\n",
    "            url = parts[2]\n",
    "            pageInb64 = parts[3]\n",
    "            html_data = base64.b64decode(pageInb64)\n",
    "            features = calc_features_f(url, html_data)\n",
    "            train_docs.append(DocItem(url_id, mark, url, features))\n",
    "                     \n",
    "    with gzip.open(test_input_file_name) as input_file: \n",
    "        headers = input_file.readline()\n",
    "        for i, line in enumerate(input_file):\n",
    "            trace(i)\n",
    "            parts = line.strip().split(b'\\t')\n",
    "            url_id = int(parts[0])\n",
    "            mark = bool(int(parts[1]))\n",
    "            url = parts[2]\n",
    "            pageInb64 = parts[3]\n",
    "            html_data = base64.b64decode(pageInb64)\n",
    "            features = calc_features_f(url, html_data)\n",
    "            test_docs.append(DocItem(url_id, mark, url, features))\n",
    "        \n",
    "    return train_docs, test_docs"
   ]
  },
  {
   "cell_type": "code",
   "execution_count": 31,
   "metadata": {},
   "outputs": [],
   "source": [
    "vectorizer = TfidfVectorizer(ngram_range=(1, 1), max_features=1000)\n",
    "\n",
    "def get_features(train_row, test_row):\n",
    "    train_words = []\n",
    "    test_words = []\n",
    "    train_title = []\n",
    "    test_title = []\n",
    "    train_a = []\n",
    "    test_a = []\n",
    "    train_docs = []\n",
    "    test_docs = []\n",
    "    for doc in train_row:\n",
    "        train_words.append(doc.features[-3])\n",
    "        train_title.append(doc.features[-2])\n",
    "        train_a.append(doc.features[-1])\n",
    "    for doc in test_row:\n",
    "        test_words.append(doc.features[-3])\n",
    "        test_title.append(doc.features[-2])\n",
    "        test_a.append(doc.features[-1])\n",
    "        \n",
    "    vectorizer.fit(train_words + test_words)\n",
    "    train_tfidf = vectorizer.transform(train_words)\n",
    "    test_tfidf = vectorizer.transform(test_words)\n",
    "            \n",
    "    for i in range(len(train_words)):\n",
    "        train_docs.append(DocItem(train_row[i].doc_id, train_row[i].is_spam,\n",
    "                          train_row[i].url,\n",
    "                          train_tfidf[i].todense().tolist()[0]))\n",
    "                         # train_row[i].features[:-3] + train_tfidf[i].todense().tolist()[0]))\n",
    "        #features[i] = tfidf[i].todense().tolist()[0]\n",
    "        \n",
    "    for i in range(len(test_words)):\n",
    "        test_docs.append(DocItem(test_row[i].doc_id, test_row[i].is_spam,\n",
    "                         test_row[i].url,\n",
    "                         test_tfidf[i].todense().tolist()[0]))\n",
    "        #features[i] = tfidf[i].todense().tolist()[0]\n",
    "    \n",
    "    return train_docs, test_docs"
   ]
  },
  {
   "cell_type": "markdown",
   "metadata": {},
   "source": [
    "** Обрабатываем входной файл **\n",
    "<br>\n",
    "Формат - поля разделенные табуляциями\n",
    "<br>\n",
    "0 - идентификатор документа\n",
    "<br>\n",
    "1 - метка класса 0 - не спам, 1 - спам\n",
    "<br>\n",
    "2 - урл документа\n",
    "<br>\n",
    "3 - документ в кодировке base64\n",
    "\n",
    "Выходной формат - массив кортежей вида\n",
    "(doc_id, is_spam, url, html_data)"
   ]
  },
  {
   "cell_type": "code",
   "execution_count": 15,
   "metadata": {
    "scrolled": true
   },
   "outputs": [
    {
     "name": "stderr",
     "output_type": "stream",
     "text": [
      "00:30:13 INFO:Complete items 00000\n",
      "00:31:07 INFO:Complete items 01000\n",
      "00:31:53 INFO:Complete items 02000\n",
      "00:32:40 INFO:Complete items 03000\n",
      "00:33:25 INFO:Complete items 04000\n",
      "00:34:15 INFO:Complete items 05000\n",
      "00:35:01 INFO:Complete items 06000\n",
      "00:35:51 INFO:Complete items 07000\n",
      "00:35:53 INFO:Complete items 00000\n",
      "00:37:03 INFO:Complete items 01000\n",
      "00:38:07 INFO:Complete items 02000\n",
      "00:39:05 INFO:Complete items 03000\n",
      "00:39:58 INFO:Complete items 04000\n",
      "00:40:48 INFO:Complete items 05000\n",
      "00:41:50 INFO:Complete items 06000\n",
      "00:42:42 INFO:Complete items 07000\n",
      "00:43:37 INFO:Complete items 08000\n",
      "00:44:32 INFO:Complete items 09000\n",
      "00:45:46 INFO:Complete items 10000\n",
      "00:46:38 INFO:Complete items 11000\n",
      "00:47:33 INFO:Complete items 12000\n",
      "00:48:23 INFO:Complete items 13000\n",
      "00:49:21 INFO:Complete items 14000\n",
      "00:50:18 INFO:Complete items 15000\n",
      "00:51:19 INFO:Complete items 16000\n"
     ]
    },
    {
     "name": "stdout",
     "output_type": "stream",
     "text": [
      "CPU times: user 21min 4s, sys: 3.37 s, total: 21min 8s\n",
      "Wall time: 21min 8s\n"
     ]
    }
   ],
   "source": [
    "%%time\n",
    "\n",
    "TRAIN_DATA_FILE  = 'kaggle_train_data_tab.csv.gz'\n",
    "TEST_DATA_FILE  = 'kaggle_test_data_tab.csv.gz'\n",
    "\n",
    "train_row, test_row = load_csv(TRAIN_DATA_FILE, TEST_DATA_FILE, calc_features)"
   ]
  },
  {
   "cell_type": "code",
   "execution_count": 16,
   "metadata": {},
   "outputs": [
    {
     "data": {
      "text/plain": [
       "8"
      ]
     },
     "execution_count": 16,
     "metadata": {},
     "output_type": "execute_result"
    }
   ],
   "source": [
    "len(train_row[2].features)"
   ]
  },
  {
   "cell_type": "code",
   "execution_count": 32,
   "metadata": {},
   "outputs": [
    {
     "name": "stdout",
     "output_type": "stream",
     "text": [
      "CPU times: user 3min 19s, sys: 2.13 s, total: 3min 21s\n",
      "Wall time: 3min 21s\n"
     ]
    }
   ],
   "source": [
    "%%time\n",
    "\n",
    "train_docs, test_docs = get_features(train_row, test_row)"
   ]
  },
  {
   "cell_type": "code",
   "execution_count": 33,
   "metadata": {
    "scrolled": true
   },
   "outputs": [
    {
     "data": {
      "text/plain": [
       "1000"
      ]
     },
     "execution_count": 33,
     "metadata": {},
     "output_type": "execute_result"
    }
   ],
   "source": [
    "len(train_docs[2].features)"
   ]
  },
  {
   "cell_type": "code",
   "execution_count": 37,
   "metadata": {},
   "outputs": [
    {
     "data": {
      "image/png": "[encoded data removed]",
      "text/plain": [
       "<matplotlib.figure.Figure at 0x7f5a6e145470>"
      ]
     },
     "metadata": {
      "needs_background": "light"
     },
     "output_type": "display_data"
    }
   ],
   "source": [
    "is_spam_data = [doc.features[0] for doc in train_docs if doc[1] == True]\n",
    "not_spam_data = [doc.features[0] for doc in train_docs if doc[1] == False]\n",
    "bins = range(0,3000,10)\n",
    "plt.hist(is_spam_data, bins=bins, color='red', normed=True, alpha=0.7, label='spam')\n",
    "plt.hist(not_spam_data, bins=bins, color='blue', normed=True, alpha=0.7, label='not_spam')\n",
    "plt.title('NumWords')\n",
    "plt.legend()\n",
    "plt.show()"
   ]
  },
  {
   "cell_type": "code",
   "execution_count": 38,
   "metadata": {},
   "outputs": [
    {
     "data": {
      "image/png": "[encoded data removed]",
      "text/plain": [
       "<matplotlib.figure.Figure at 0x7f5a6e145be0>"
      ]
     },
     "metadata": {
      "needs_background": "light"
     },
     "output_type": "display_data"
    }
   ],
   "source": [
    "is_spam_data = [doc.features[1] for doc in train_docs if doc[1] == True]\n",
    "not_spam_data = [doc.features[1] for doc in train_docs if doc[1] == False]\n",
    "bins = 100\n",
    "plt.hist(is_spam_data, bins=bins, color='red', normed=True, alpha=0.7, label='spam')\n",
    "plt.hist(not_spam_data, bins=bins, color='blue', normed=True, alpha=0.7, label='not_spam')\n",
    "plt.title('AvgWordLen')\n",
    "plt.legend()\n",
    "plt.show()"
   ]
  },
  {
   "cell_type": "code",
   "execution_count": 39,
   "metadata": {},
   "outputs": [
    {
     "data": {
      "image/png": "[encoded data removed]",
      "text/plain": [
       "<matplotlib.figure.Figure at 0x7f5a6dd17c50>"
      ]
     },
     "metadata": {
      "needs_background": "light"
     },
     "output_type": "display_data"
    }
   ],
   "source": [
    "is_spam_data = [doc.features[2] for doc in train_docs if doc[1] == True]\n",
    "not_spam_data = [doc.features[2] for doc in train_docs if doc[1] == False]\n",
    "bins = range(0, 30, 1)\n",
    "plt.hist(is_spam_data, bins=bins, color='red', normed=True, alpha=0.7, label='spam')\n",
    "plt.hist(not_spam_data, bins=bins, color='blue', normed=True, alpha=0.7, label='not_spam')\n",
    "plt.title('NumWordsTitle')\n",
    "plt.legend()\n",
    "plt.show()"
   ]
  },
  {
   "cell_type": "code",
   "execution_count": 40,
   "metadata": {},
   "outputs": [
    {
     "data": {
      "image/png": "[encoded data removed]",
      "text/plain": [
       "<matplotlib.figure.Figure at 0x7f5a5e598f60>"
      ]
     },
     "metadata": {
      "needs_background": "light"
     },
     "output_type": "display_data"
    }
   ],
   "source": [
    "is_spam_data = [doc.features[3] for doc in train_docs if doc[1] == True]\n",
    "not_spam_data = [doc.features[3] for doc in train_docs if doc[1] == False]\n",
    "bins = range(0, 1000, 10)\n",
    "plt.hist(is_spam_data, bins=bins, color='red', normed=True, alpha=0.7, label='spam')\n",
    "plt.hist(not_spam_data, bins=bins, color='blue', normed=True, alpha=0.7, label='not_spam')\n",
    "plt.title('NumWordsAnchor')\n",
    "plt.legend()\n",
    "plt.show()"
   ]
  },
  {
   "cell_type": "code",
   "execution_count": 41,
   "metadata": {},
   "outputs": [
    {
     "data": {
      "image/png": "[encoded data removed]",
      "text/plain": [
       "<matplotlib.figure.Figure at 0x7f5a5e595f60>"
      ]
     },
     "metadata": {
      "needs_background": "light"
     },
     "output_type": "display_data"
    }
   ],
   "source": [
    "is_spam_data = [doc.features[4] for doc in train_docs if doc[1] == True]\n",
    "not_spam_data = [doc.features[4] for doc in train_docs if doc[1] == False]\n",
    "bins = 100\n",
    "plt.hist(is_spam_data, bins=bins, color='red', normed=True, alpha=0.7, label='spam')\n",
    "plt.hist(not_spam_data, bins=bins, color='blue', normed=True, alpha=0.7, label='not_spam')\n",
    "plt.title('Compression')\n",
    "plt.legend()\n",
    "plt.show()"
   ]
  },
  {
   "cell_type": "markdown",
   "metadata": {},
   "source": [
    "** Классификатор: **\n",
    "Нужно реализовать"
   ]
  },
  {
   "cell_type": "code",
   "execution_count": 28,
   "metadata": {},
   "outputs": [],
   "source": [
    "from IPython.display import clear_output\n",
    "\n",
    "def train(network, train_loader, test_loader, epochs, learning_rate, ravel_init=False, optim=torch.optim.Adam):\n",
    "    loss = nn.BCELoss()\n",
    "    optimizer = optim(network.parameters(), lr=learning_rate)\n",
    "    train_loss_epochs = []\n",
    "    test_loss_epochs = []\n",
    "    train_accuracy_epochs = []\n",
    "    test_accuracy_epochs = []\n",
    "    try:\n",
    "        for epoch in range(epochs):\n",
    "            losses = []\n",
    "            accuracies = []\n",
    "            network.train()\n",
    "            for X, y in train_loader:\n",
    "                if ravel_init:\n",
    "                    X = X.view(X.size(0), -1)\n",
    "                network.zero_grad()\n",
    "                prediction = network(X)\n",
    "                loss_batch = loss(prediction, y)\n",
    "                losses.append(loss_batch.item())\n",
    "                loss_batch.backward()\n",
    "                optimizer.step()\n",
    "                accuracies.append(((prediction.data.numpy() > 0.5)==y.data.numpy()).mean())\n",
    "            train_loss_epochs.append(np.mean(losses))\n",
    "            train_accuracy_epochs.append(np.mean(accuracies))\n",
    "            losses = []\n",
    "            accuracies = []  \n",
    "            network.eval()\n",
    "            for X, y in test_loader:\n",
    "                if ravel_init:\n",
    "                    X = X.view(X.size(0), -1)\n",
    "                prediction = network(X)\n",
    "                loss_batch = loss(prediction, y)\n",
    "                losses.append(loss_batch.item())\n",
    "                accuracies.append(((prediction.data.numpy() > 0.5)==y.data.numpy()).mean())\n",
    "            test_loss_epochs.append(np.mean(losses))\n",
    "            test_accuracy_epochs.append(np.mean(accuracies))\n",
    "            clear_output(True)\n",
    "            print('\\rEpoch {0}... (Train/Test) BCE: {1:.3f}/{2:.3f}\\tAccuracy: {3:.3f}/{4:.3f}'.format(\n",
    "                        epoch, train_loss_epochs[-1], test_loss_epochs[-1],\n",
    "                        train_accuracy_epochs[-1], test_accuracy_epochs[-1]))\n",
    "            plt.figure(figsize=(12, 5))\n",
    "            plt.plot(train_loss_epochs, label='Train')\n",
    "            plt.plot(test_loss_epochs, label='Test')\n",
    "            plt.xlabel('Epochs', fontsize=16)\n",
    "            plt.ylabel('Loss', fontsize=16)\n",
    "            plt.legend(loc=0, fontsize=16)\n",
    "            plt.grid()\n",
    "            plt.show()\n",
    "    except KeyboardInterrupt:\n",
    "        pass\n",
    "    return train_loss_epochs, \\\n",
    "           test_loss_epochs, \\\n",
    "           train_accuracy_epochs, \\\n",
    "           test_accuracy_epochs"
   ]
  },
  {
   "cell_type": "code",
   "execution_count": 20,
   "metadata": {},
   "outputs": [],
   "source": [
    "class MyDataset(Dataset):\n",
    "    def __init__(self, X, Y):\n",
    "        self.X = X\n",
    "        self.Y = Y\n",
    "        \n",
    "    def __len__(self):\n",
    "        return len(self.X)\n",
    "    \n",
    "    def __getitem__(self, i):\n",
    "        return self.X[i], self.Y[i]"
   ]
  },
  {
   "cell_type": "code",
   "execution_count": 25,
   "metadata": {},
   "outputs": [],
   "source": [
    "class Classifier:\n",
    "    \n",
    "    def __init__(self, epochs=50, lr=0.00001):\n",
    "        self.epochs = epochs\n",
    "        self.lr = lr\n",
    "\n",
    "    def predict(self, doc):\n",
    "        X = np.zeros((len(doc.features)))\n",
    "        X[:] = doc.features\n",
    "        return self.model(torch.from_numpy(X)).data.numpy()[0]\n",
    "    \n",
    "    def predict_all(self, docs):\n",
    "        res = []\n",
    "        for doc_num, doc in enumerate(docs):\n",
    "            trace(doc_num)\n",
    "            prediction = self.predict(doc)            \n",
    "            res.append( (doc.doc_id, doc.is_spam, doc.url, prediction) )\n",
    "        return res\n",
    "    \n",
    "    def train(self, docs):\n",
    "        X = np.zeros((len(docs), len(docs[0].features)))\n",
    "        y = np.zeros(len(docs))\n",
    "        for doc_num, doc in enumerate(docs):                            \n",
    "            X[doc_num] = doc.features\n",
    "            y[doc_num] = doc.is_spam\n",
    "        self.model = nn.Sequential(\n",
    "            nn.Linear(len(docs[0].features), 300),\n",
    "            nn.ReLU(inplace=True),\n",
    "            nn.Linear(300, 200),\n",
    "            nn.ReLU(inplace=True),\n",
    "            nn.Linear(200, 200),\n",
    "            nn.ReLU(inplace=True),\n",
    "            nn.Linear(200, 50),\n",
    "            nn.ReLU(inplace=True),\n",
    "            nn.Linear(50, 1), \n",
    "            nn.Sigmoid()).double()\n",
    "        X_train, X_test, y_train, y_test = train_test_split(\n",
    "            X, y, test_size=0.1, random_state=42)\n",
    "        train_set = MyDataset(X_train, y_train)\n",
    "        test_set = MyDataset(X_test, y_test)\n",
    "        train_loader = DataLoader(train_set, batch_size=64)\n",
    "        test_loader = DataLoader(test_set, batch_size=64)\n",
    "        train(self.model, train_loader, test_loader, epochs=self.epochs, learning_rate=self.lr)"
   ]
  },
  {
   "cell_type": "code",
   "execution_count": 34,
   "metadata": {
    "scrolled": false
   },
   "outputs": [
    {
     "name": "stdout",
     "output_type": "stream",
     "text": [
      "\r",
      "Epoch 31... (Train/Test) BCE: 0.066/0.114\tAccuracy: 0.523/0.559\n"
     ]
    },
    {
     "data": {
      "image/png": "[encoded data removed]",
      "text/plain": [
       "<matplotlib.figure.Figure at 0x7f0b851bfe48>"
      ]
     },
     "metadata": {
      "needs_background": "light"
     },
     "output_type": "display_data"
    }
   ],
   "source": [
    "classifier = Classifier(epochs=1000, lr=0.00002)\n",
    "classifier.train(train_docs)"
   ]
  },
  {
   "cell_type": "code",
   "execution_count": null,
   "metadata": {},
   "outputs": [],
   "source": [
    "#Посмотреть, что предсказывается для тестового html\n",
    "#classifier.predict(DocItem(0, 0, test_url , test_features))"
   ]
  },
  {
   "cell_type": "markdown",
   "metadata": {},
   "source": [
    "** Рисуем графики **"
   ]
  },
  {
   "cell_type": "code",
   "execution_count": 35,
   "metadata": {
    "scrolled": true
   },
   "outputs": [
    {
     "name": "stderr",
     "output_type": "stream",
     "text": [
      "01:39:34 INFO:Complete items 00000\n",
      "01:39:36 INFO:Complete items 01000\n",
      "01:39:38 INFO:Complete items 02000\n",
      "01:39:41 INFO:Complete items 03000\n",
      "01:39:43 INFO:Complete items 04000\n",
      "01:39:45 INFO:Complete items 05000\n",
      "01:39:47 INFO:Complete items 06000\n",
      "01:39:49 INFO:Complete items 07000\n"
     ]
    },
    {
     "name": "stdout",
     "output_type": "stream",
     "text": [
      "threshold 0\n",
      "\tclass_prec 0.5833333333333334, class_recall 1.0, class_F1 0.7368421052631579\n",
      "\tnot_class_prec 0.0, not_class_recall 0.0, not_class_F1 0.0\n",
      "\t\tMacroF1Mesure 0.3684210526315789\n",
      "threshold 0.01\n",
      "\tclass_prec 0.787977722296908, class_recall 0.9985397907033341, class_F1 0.8808501502790896\n",
      "\tnot_class_prec 0.9967338051170387, not_class_recall 0.6238500851788756, not_class_F1 0.7673931265716681\n",
      "\t\tMacroF1Mesure 0.8241216384253789\n",
      "threshold 0.02\n",
      "\tclass_prec 0.8378654671846248, class_recall 0.9973229496227792, class_F1 0.9106666666666665\n",
      "\tnot_class_prec 0.9948908499767766, not_class_recall 0.7298126064735946, not_class_F1 0.8419811320754718\n",
      "\t\tMacroF1Mesure 0.8763238993710691\n",
      "threshold 0.03\n",
      "\tclass_prec 0.8644711842938568, class_recall 0.9965928449744463, class_F1 0.925842188559801\n",
      "\tnot_class_prec 0.9939315127871695, not_class_recall 0.7812606473594549, not_class_F1 0.874856924837848\n",
      "\t\tMacroF1Mesure 0.9003495566988245\n",
      "threshold 0.04\n",
      "\tclass_prec 0.8826827690317015, class_recall 0.9961061085422244, class_F1 0.9359707294763321\n",
      "\tnot_class_prec 0.9933527212297466, not_class_recall 0.8146507666098808, not_class_F1 0.8951703481842007\n",
      "\t\tMacroF1Mesure 0.9155705388302664\n",
      "threshold 0.05\n",
      "\tclass_prec 0.8983311374615722, class_recall 0.9956193721100024, class_F1 0.9444765092923929\n",
      "\tnot_class_prec 0.9927710843373494, not_class_recall 0.8422487223168654, not_class_F1 0.9113364055299539\n",
      "\t\tMacroF1Mesure 0.9279064574111734\n",
      "threshold 0.060000000000000005\n",
      "\tclass_prec 0.9040671971706454, class_recall 0.9953760038938915, class_F1 0.9475269315417584\n",
      "\tnot_class_prec 0.9924603174603175, not_class_recall 0.852129471890971, not_class_F1 0.9169569202566453\n",
      "\t\tMacroF1Mesure 0.9322419258992019\n",
      "threshold 0.07\n",
      "\tclass_prec 0.9122572002679169, class_recall 0.9944025310294475, class_F1 0.951560316721006\n",
      "\tnot_class_prec 0.9910331384015595, not_class_recall 0.8660988074957411, not_class_F1 0.9243636363636364\n",
      "\t\tMacroF1Mesure 0.9379619765423213\n",
      "threshold 0.08\n",
      "\tclass_prec 0.918353576248313, class_recall 0.9936724263811146, class_F1 0.9545295149035652\n",
      "\tnot_class_prec 0.9899923017705927, not_class_recall 0.8763202725724021, not_class_F1 0.9296945599132478\n",
      "\t\tMacroF1Mesure 0.9421120374084064\n",
      "threshold 0.09\n",
      "\tclass_prec 0.9241223103057757, class_recall 0.9929423217327817, class_F1 0.9572970436414829\n",
      "\tnot_class_prec 0.9889691898060099, not_class_recall 0.8858603066439523, not_class_F1 0.9345794392523366\n",
      "\t\tMacroF1Mesure 0.9459382414469097\n",
      "threshold 0.09999999999999999\n",
      "\tclass_prec 0.9291571753986333, class_recall 0.9926989535166707, class_F1 0.9598776326626661\n",
      "\tnot_class_prec 0.9886963074604371, not_class_recall 0.894037478705281, not_class_F1 0.9389872964752192\n",
      "\t\tMacroF1Mesure 0.9494324645689427\n",
      "threshold 0.10999999999999999\n",
      "\tclass_prec 0.9336080586080586, class_recall 0.9924555853005598, class_F1 0.962132830010617\n",
      "\tnot_class_prec 0.9884155455904334, not_class_recall 0.9011925042589438, not_class_F1 0.9427909463553734\n",
      "\t\tMacroF1Mesure 0.9524618881829952\n",
      "threshold 0.11999999999999998\n",
      "\tclass_prec 0.9366100137804317, class_recall 0.9924555853005598, class_F1 0.9637244475954153\n",
      "\tnot_class_prec 0.9884758364312267, not_class_recall 0.9059625212947189, not_class_F1 0.9454222222222222\n",
      "\t\tMacroF1Mesure 0.9545733349088188\n",
      "threshold 0.12999999999999998\n",
      "\tclass_prec 0.941108545034642, class_recall 0.9917254806522268, class_F1 0.9657542362839199\n",
      "\tnot_class_prec 0.9874723655121592, not_class_recall 0.9131175468483816, not_class_F1 0.9488405027438485\n",
      "\t\tMacroF1Mesure 0.9572973695138842\n",
      "threshold 0.13999999999999999\n",
      "\tclass_prec 0.9450243562978428, class_recall 0.9914821124361158, class_F1 0.9676959619952494\n",
      "\tnot_class_prec 0.9871935601902672, not_class_recall 0.9192504258943782, not_class_F1 0.9520112914608329\n",
      "\t\tMacroF1Mesure 0.9598536267280411\n",
      "threshold 0.15\n",
      "\tclass_prec 0.9474051663951594, class_recall 0.9907520077877829, class_F1 0.9685938615274805\n",
      "\tnot_class_prec 0.9861667273389152, not_class_recall 0.9229982964224872, not_class_F1 0.9535374868004224\n",
      "\t\tMacroF1Mesure 0.9610656741639514\n",
      "threshold 0.16\n",
      "\tclass_prec 0.9502685033854774, class_recall 0.9905086395716719, class_F1 0.9699714013346044\n",
      "\tnot_class_prec 0.9858746830858385, not_class_recall 0.927427597955707, not_class_F1 0.9557584269662921\n",
      "\t\tMacroF1Mesure 0.9628649141504482\n",
      "threshold 0.17\n",
      "\tclass_prec 0.953128661823295, class_recall 0.989778534923339, class_F1 0.9711079274116523\n",
      "\tnot_class_prec 0.98487576521426, not_class_recall 0.9318568994889267, not_class_F1 0.9576330532212884\n",
      "\t\tMacroF1Mesure 0.9643704903164704\n",
      "threshold 0.18000000000000002\n",
      "\tclass_prec 0.9551221804511278, class_recall 0.989291798491117, class_F1 0.9719067543335325\n",
      "\tnot_class_prec 0.9842180774748924, not_class_recall 0.934923339011925, not_class_F1 0.9589376201293028\n",
      "\t\tMacroF1Mesure 0.9654221872314177\n",
      "threshold 0.19000000000000003\n",
      "\tclass_prec 0.9573314474304573, class_recall 0.9883183256266732, class_F1 0.972578134355167\n",
      "\tnot_class_prec 0.9828693790149893, not_class_recall 0.9383304940374787, not_class_F1 0.9600836674219976\n",
      "\t\tMacroF1Mesure 0.9663309008885823\n",
      "threshold 0.20000000000000004\n",
      "\tclass_prec 0.9584415584415584, class_recall 0.9878315891944512, class_F1 0.972914669223394\n",
      "\tnot_class_prec 0.9822000711997152, not_class_recall 0.9400340715502555, not_class_F1 0.9606545961002786\n",
      "\t\tMacroF1Mesure 0.9667846326618363\n",
      "threshold 0.21000000000000005\n",
      "\tclass_prec 0.9609097370291401, class_recall 0.9871014845461182, class_F1 0.9738295318127251\n",
      "\tnot_class_prec 0.9812256464753808, not_class_recall 0.9437819420783645, not_class_F1 0.962139631816603\n",
      "\t\tMacroF1Mesure 0.9679845818146641\n",
      "threshold 0.22000000000000006\n",
      "\tclass_prec 0.9624970329931165, class_recall 0.9868581163300073, class_F1 0.9745253544820957\n",
      "\tnot_class_prec 0.9809254680324974, not_class_recall 0.9461669505962521, not_class_F1 0.9632327436697884\n",
      "\t\tMacroF1Mesure 0.968879049075942\n",
      "threshold 0.23000000000000007\n",
      "\tclass_prec 0.963623395149786, class_recall 0.9863713798977853, class_F1 0.9748647023451594\n",
      "\tnot_class_prec 0.9802677942212826, not_class_recall 0.9478705281090289, not_class_F1 0.9637969859691669\n",
      "\t\tMacroF1Mesure 0.9693308441571631\n",
      "threshold 0.24000000000000007\n",
      "\tclass_prec 0.9645322542251845, class_recall 0.9861280116816744, class_F1 0.9752105896510229\n",
      "\tnot_class_prec 0.9799507562434049, not_class_recall 0.9492333901192505, not_class_F1 0.9643475250951886\n",
      "\t\tMacroF1Mesure 0.9697790573731058\n",
      "threshold 0.25000000000000006\n",
      "\tclass_prec 0.965443279313632, class_recall 0.9858846434655634, class_F1 0.9755568934376881\n",
      "\tnot_class_prec 0.9796348314606742, not_class_recall 0.9505962521294719, not_class_F1 0.9648971122254886\n",
      "\t\tMacroF1Mesure 0.9702270028315884\n",
      "threshold 0.26000000000000006\n",
      "\tclass_prec 0.9668257756563245, class_recall 0.9858846434655634, class_F1 0.976262200265092\n",
      "\tnot_class_prec 0.979677645409951, not_class_recall 0.9526405451448041, not_class_F1 0.965969942995336\n",
      "\t\tMacroF1Mesure 0.9711160716302141\n",
      "threshold 0.2700000000000001\n",
      "\tclass_prec 0.967741935483871, class_recall 0.9856412752494524, class_F1 0.9766095972992525\n",
      "\tnot_class_prec 0.9793634137810423, not_class_recall 0.9540034071550255, not_class_F1 0.966517086641353\n",
      "\t\tMacroF1Mesure 0.9715633419703027\n",
      "threshold 0.2800000000000001\n",
      "\tclass_prec 0.9686527877482651, class_recall 0.9851545388172305, class_F1 0.9768339768339768\n",
      "\tnot_class_prec 0.9787085514834206, not_class_recall 0.955366269165247, not_class_F1 0.966896551724138\n",
      "\t\tMacroF1Mesure 0.9718652642790574\n",
      "threshold 0.2900000000000001\n",
      "\tclass_prec 0.9693486590038314, class_recall 0.9851545388172305, class_F1 0.9771876885938443\n",
      "\tnot_class_prec 0.9787308228730823, not_class_recall 0.9563884156729131, not_class_F1 0.9674306393244874\n",
      "\t\tMacroF1Mesure 0.9723091639591659\n",
      "threshold 0.3000000000000001\n",
      "\tclass_prec 0.9698131288931481, class_recall 0.9851545388172305, class_F1 0.9774236387782206\n",
      "\tnot_class_prec 0.9787456445993031, not_class_recall 0.9570698466780239, not_class_F1 0.967786391042205\n",
      "\t\tMacroF1Mesure 0.9726050149102128\n",
      "threshold 0.3100000000000001\n",
      "\tclass_prec 0.9707363876229311, class_recall 0.9849111706011195, class_F1 0.9777724087943948\n",
      "\tnot_class_prec 0.9784347826086957, not_class_recall 0.9584327086882453, not_class_F1 0.9683304647160069\n",
      "\t\tMacroF1Mesure 0.9730514367552008\n",
      "threshold 0.3200000000000001\n",
      "\tclass_prec 0.9728300072132724, class_recall 0.9846678023850085, class_F1 0.9787131107885825\n",
      "\tnot_class_prec 0.9781629116117851, not_class_recall 0.9614991482112436, not_class_F1 0.9697594501718213\n",
      "\t\tMacroF1Mesure 0.9742362804802018\n"
     ]
    },
    {
     "name": "stdout",
     "output_type": "stream",
     "text": [
      "threshold 0.3300000000000001\n",
      "\tclass_prec 0.9730445246690734, class_recall 0.9839376977366756, class_F1 0.978460793804453\n",
      "\tnot_class_prec 0.9771547248182763, not_class_recall 0.9618398637137989, not_class_F1 0.9694368131868132\n",
      "\t\tMacroF1Mesure 0.9739488034956332\n",
      "threshold 0.34000000000000014\n",
      "\tclass_prec 0.9737412671645387, class_recall 0.9836943295205646, class_F1 0.9786924939467312\n",
      "\tnot_class_prec 0.9768406498444522, not_class_recall 0.9628620102214651, not_class_F1 0.9698009608785175\n",
      "\t\tMacroF1Mesure 0.9742467274126243\n",
      "threshold 0.35000000000000014\n",
      "\tclass_prec 0.9746743849493488, class_recall 0.9834509613044536, class_F1 0.9790430042398547\n",
      "\tnot_class_prec 0.9765355417529331, not_class_recall 0.9642248722316865, not_class_F1 0.9703411623521344\n",
      "\t\tMacroF1Mesure 0.9746920832959945\n",
      "threshold 0.36000000000000015\n",
      "\tclass_prec 0.9756038647342995, class_recall 0.9829642248722317, class_F1 0.9792702145714631\n",
      "\tnot_class_prec 0.9758953168044077, not_class_recall 0.965587734241908, not_class_F1 0.9707141633841411\n",
      "\t\tMacroF1Mesure 0.9749921889778022\n",
      "threshold 0.37000000000000016\n",
      "\tclass_prec 0.9763113367174281, class_recall 0.9829642248722317, class_F1 0.9796264855687606\n",
      "\tnot_class_prec 0.9759201926384589, not_class_recall 0.9666098807495741, not_class_F1 0.9712427250941458\n",
      "\t\tMacroF1Mesure 0.9754346053314532\n",
      "threshold 0.38000000000000017\n",
      "\tclass_prec 0.9770142753447859, class_recall 0.9827208566561207, class_F1 0.9798592574617812\n",
      "\tnot_class_prec 0.975609756097561, not_class_recall 0.9676320272572402, not_class_F1 0.9716045159083134\n",
      "\t\tMacroF1Mesure 0.9757318866850473\n",
      "threshold 0.3900000000000002\n",
      "\tclass_prec 0.9777077780470075, class_recall 0.9819907520077877, class_F1 0.9798445847498786\n",
      "\tnot_class_prec 0.9746314706890641, not_class_recall 0.9686541737649063, not_class_F1 0.9716336295283664\n",
      "\t\tMacroF1Mesure 0.9757391071391225\n",
      "threshold 0.4000000000000002\n",
      "\tclass_prec 0.9786511402231927, class_recall 0.9817473837916768, class_F1 0.9801968169116755\n",
      "\tnot_class_prec 0.9743326488706365, not_class_recall 0.9700170357751278, not_class_F1 0.9721700529281201\n",
      "\t\tMacroF1Mesure 0.9761834349198978\n",
      "threshold 0.4100000000000002\n",
      "\tclass_prec 0.9800632141988816, class_recall 0.9810172791433439, class_F1 0.9805400145949891\n",
      "\tnot_class_prec 0.9733879222108496, not_class_recall 0.9720613287904599, not_class_F1 0.9727241732015002\n",
      "\t\tMacroF1Mesure 0.9766320938982447\n",
      "threshold 0.4200000000000002\n",
      "\tclass_prec 0.9807785888077859, class_recall 0.9810172791433439, class_F1 0.9808979194549216\n",
      "\tnot_class_prec 0.9734151329243353, not_class_recall 0.9730834752981261, not_class_F1 0.9732492758561936\n",
      "\t\tMacroF1Mesure 0.9770735976555576\n",
      "threshold 0.4300000000000002\n",
      "\tclass_prec 0.9812423873325213, class_recall 0.9802871744950109, class_F1 0.9807645483321159\n",
      "\tnot_class_prec 0.9724396053079278, not_class_recall 0.9737649063032368, not_class_F1 0.9731018045624786\n",
      "\t\tMacroF1Mesure 0.9769331764472973\n",
      "threshold 0.4400000000000002\n",
      "\tclass_prec 0.9817117776152158, class_recall 0.979800438062789, class_F1 0.9807551766138856\n",
      "\tnot_class_prec 0.9717974855589534, not_class_recall 0.9744463373083475, not_class_F1 0.9731201088805715\n",
      "\t\tMacroF1Mesure 0.9769376427472285\n",
      "threshold 0.45000000000000023\n",
      "\tclass_prec 0.982182084452038, class_recall 0.9793137016305671, class_F1 0.9807457957592006\n",
      "\tnot_class_prec 0.9711571089243298, not_class_recall 0.9751277683134583, not_class_F1 0.9731383883032982\n",
      "\t\tMacroF1Mesure 0.9769420920312495\n",
      "threshold 0.46000000000000024\n",
      "\tclass_prec 0.9824089909601759, class_recall 0.9785835969822341, class_F1 0.9804925627895635\n",
      "\tnot_class_prec 0.9701796001355473, not_class_recall 0.9754684838160136, not_class_F1 0.9728168535507985\n",
      "\t\tMacroF1Mesure 0.9766547081701811\n",
      "threshold 0.47000000000000025\n",
      "\tclass_prec 0.9828850855745721, class_recall 0.9783402287661231, class_F1 0.9806073911452616\n",
      "\tnot_class_prec 0.9698713608666215, not_class_recall 0.9761499148211243, not_class_F1 0.9730005094243503\n",
      "\t\tMacroF1Mesure 0.976803950284806\n",
      "threshold 0.48000000000000026\n",
      "\tclass_prec 0.983125458547322, class_recall 0.9783402287661231, class_F1 0.9807270065869723\n",
      "\tnot_class_prec 0.9698815566835871, not_class_recall 0.9764906303236798, not_class_F1 0.9731748726655349\n",
      "\t\tMacroF1Mesure 0.9769509396262537\n",
      "threshold 0.49000000000000027\n",
      "\tclass_prec 0.9838354151359294, class_recall 0.9776101241177902, class_F1 0.980712890625\n",
      "\tnot_class_prec 0.9689294157379263, not_class_recall 0.9775127768313459, not_class_F1 0.9732021709633649\n",
      "\t\tMacroF1Mesure 0.9769575307941825\n",
      "threshold 0.5000000000000002\n",
      "\tclass_prec 0.9845512506130456, class_recall 0.9771233876855683, class_F1 0.9808232563820691\n",
      "\tnot_class_prec 0.9683074848280513, not_class_recall 0.9785349233390119, not_class_F1 0.9733943399423827\n",
      "\t\tMacroF1Mesure 0.977108798162226\n",
      "threshold 0.5100000000000002\n",
      "\tclass_prec 0.98502332433096, class_recall 0.9763932830372354, class_F1 0.9806893180151552\n",
      "\tnot_class_prec 0.9673510602490744, not_class_recall 0.9792163543441227, not_class_F1 0.9732475448696242\n",
      "\t\tMacroF1Mesure 0.9769684314423897\n",
      "threshold 0.5200000000000002\n",
      "\tclass_prec 0.9857458835094618, class_recall 0.9761499148211243, class_F1 0.9809244314013206\n",
      "\tnot_class_prec 0.9670588235294117, not_class_recall 0.9802385008517888, not_class_F1 0.9736040609137057\n",
      "\t\tMacroF1Mesure 0.9772642461575132\n",
      "threshold 0.5300000000000002\n",
      "\tclass_prec 0.986469864698647, class_recall 0.9759065466050134, class_F1 0.9811597748960118\n",
      "\tnot_class_prec 0.9667673716012085, not_class_recall 0.9812606473594548, not_class_F1 0.9739600946905648\n",
      "\t\tMacroF1Mesure 0.9775599347932883\n",
      "threshold 0.5400000000000003\n",
      "\tclass_prec 0.9867093280826975, class_recall 0.9756631783889024, class_F1 0.9811551639745472\n",
      "\tnot_class_prec 0.9664542099966454, not_class_recall 0.9816013628620103, not_class_F1 0.9739688979039892\n",
      "\t\tMacroF1Mesure 0.9775620309392682\n",
      "threshold 0.5500000000000003\n",
      "\tclass_prec 0.9871826472763126, class_recall 0.9746897055244585, class_F1 0.9808963997060985\n",
      "\tnot_class_prec 0.9651824573150318, not_class_recall 0.9822827938671209, not_class_F1 0.9736575481256332\n",
      "\t\tMacroF1Mesure 0.9772769739158659\n",
      "threshold 0.5600000000000003\n",
      "\tclass_prec 0.9874167283493709, class_recall 0.9739596008761255, class_F1 0.980641999509924\n",
      "\tnot_class_prec 0.9642260113674357, not_class_recall 0.9826235093696764, not_class_F1 0.9733378332770842\n",
      "\t\tMacroF1Mesure 0.9769899163935041\n",
      "threshold 0.5700000000000003\n",
      "\tclass_prec 0.9886279357231149, class_recall 0.9732294962277926, class_F1 0.980868285504047\n",
      "\tnot_class_prec 0.9633211070356785, not_class_recall 0.9843270868824532, not_class_F1 0.9737108190091\n",
      "\t\tMacroF1Mesure 0.9772895522565734\n",
      "threshold 0.5800000000000003\n",
      "\tclass_prec 0.9886166790398416, class_recall 0.9722560233633487, class_F1 0.9803680981595091\n",
      "\tnot_class_prec 0.962037962037962, not_class_recall 0.9843270868824532, not_class_F1 0.973054900639946\n",
      "\t\tMacroF1Mesure 0.9767114993997276\n",
      "threshold 0.5900000000000003\n",
      "\tclass_prec 0.9888558692421991, class_recall 0.9717692869311267, class_F1 0.9802381244629925\n",
      "\tnot_class_prec 0.9614105123087159, not_class_recall 0.9846678023850085, not_class_F1 0.9729001851540146\n",
      "\t\tMacroF1Mesure 0.9765691548085036\n",
      "threshold 0.6000000000000003\n",
      "\tclass_prec 0.9893432465923172, class_recall 0.9715259187150158, class_F1 0.9803536345776032\n",
      "\tnot_class_prec 0.9611166500498505, not_class_recall 0.9853492333901193, not_class_F1 0.9730820995962315\n",
      "\t\tMacroF1Mesure 0.9767178670869173\n",
      "threshold 0.6100000000000003\n",
      "\tclass_prec 0.9893379618150261, class_recall 0.9710391822827938, class_F1 0.9801031687546058\n",
      "\tnot_class_prec 0.9604782464297575, not_class_recall 0.9853492333901193, not_class_F1 0.9727547931382442\n",
      "\t\tMacroF1Mesure 0.976428980946425\n",
      "threshold 0.6200000000000003\n",
      "\tclass_prec 0.9895729890764647, class_recall 0.9700657094183499, class_F1 0.9797222563598377\n",
      "\tnot_class_prec 0.9592175066312998, not_class_recall 0.9856899488926746, not_class_F1 0.9722735674676526\n",
      "\t\tMacroF1Mesure 0.9759979119137452\n",
      "threshold 0.6300000000000003\n",
      "\tclass_prec 0.9895729890764647, class_recall 0.9700657094183499, class_F1 0.9797222563598377\n",
      "\tnot_class_prec 0.9592175066312998, not_class_recall 0.9856899488926746, not_class_F1 0.9722735674676526\n",
      "\t\tMacroF1Mesure 0.9759979119137452\n",
      "threshold 0.6400000000000003\n",
      "\tclass_prec 0.9898111332007953, class_recall 0.969335604770017, class_F1 0.9794663715726054\n",
      "\tnot_class_prec 0.9582781456953643, not_class_recall 0.98603066439523, not_class_F1 0.9719563392107473\n",
      "\t\tMacroF1Mesure 0.9757113553916763\n",
      "threshold 0.6500000000000004\n",
      "\tclass_prec 0.990052225814474, class_recall 0.968848868337795, class_F1 0.9793357933579335\n",
      "\tnot_class_prec 0.9576579556731724, not_class_recall 0.9863713798977853, not_class_F1 0.9718026183282981\n",
      "\t\tMacroF1Mesure 0.9755692058431158\n",
      "threshold 0.6600000000000004\n",
      "\tclass_prec 0.990789146128952, class_recall 0.9686055001216841, class_F1 0.979571745015998\n",
      "\tnot_class_prec 0.9573835480673935, not_class_recall 0.9873935264054514, not_class_F1 0.9721569942972157\n",
      "\t\tMacroF1Mesure 0.9758643696566068\n",
      "threshold 0.6700000000000004\n",
      "\tclass_prec 0.9910336239103362, class_recall 0.9683621319055732, class_F1 0.9795667159034958\n",
      "\tnot_class_prec 0.9570815450643777, not_class_recall 0.9877342419080068, not_class_F1 0.972166331321261\n",
      "\t\tMacroF1Mesure 0.9758665236123784\n"
     ]
    },
    {
     "name": "stdout",
     "output_type": "stream",
     "text": [
      "threshold 0.6800000000000004\n",
      "\tclass_prec 0.9910291552454523, class_recall 0.9678753954733512, class_F1 0.9793154395469097\n",
      "\tnot_class_prec 0.9564500164962059, not_class_recall 0.9877342419080068, not_class_F1 0.9718404290982233\n",
      "\t\tMacroF1Mesure 0.9755779343225666\n",
      "threshold 0.6900000000000004\n",
      "\tclass_prec 0.9912609238451935, class_recall 0.9661718179605744, class_F1 0.9785555829430614\n",
      "\tnot_class_prec 0.9542612701546561, not_class_recall 0.9880749574105622, not_class_F1 0.9708737864077669\n",
      "\t\tMacroF1Mesure 0.9747146846754142\n",
      "threshold 0.7000000000000004\n",
      "\tclass_prec 0.99175, class_recall 0.9654417133122414, class_F1 0.9784190405722037\n",
      "\tnot_class_prec 0.9533508541392904, not_class_recall 0.9887563884156729, not_class_F1 0.9707308914534204\n",
      "\t\tMacroF1Mesure 0.974574966012812\n",
      "threshold 0.7100000000000004\n",
      "\tclass_prec 0.9917458729364682, class_recall 0.9649549768800195, class_F1 0.9781670161588751\n",
      "\tnot_class_prec 0.9527248850952068, not_class_recall 0.9887563884156729, not_class_F1 0.9704062865741514\n",
      "\t\tMacroF1Mesure 0.9742866513665133\n",
      "threshold 0.7200000000000004\n",
      "\tclass_prec 0.9917334669338678, class_recall 0.9634947675833536, class_F1 0.9774101962720653\n",
      "\tnot_class_prec 0.9508519003931848, not_class_recall 0.9887563884156729, not_class_F1 0.969433773175213\n",
      "\t\tMacroF1Mesure 0.9734219847236392\n",
      "threshold 0.7300000000000004\n",
      "\tclass_prec 0.9917147878483555, class_recall 0.9613044536383548, class_F1 0.9762728620860108\n",
      "\tnot_class_prec 0.9480561907873244, not_class_recall 0.9887563884156729, not_class_F1 0.9679786524349566\n",
      "\t\tMacroF1Mesure 0.9721257572604838\n",
      "threshold 0.7400000000000004\n",
      "\tclass_prec 0.9919517102615694, class_recall 0.959844244341689, class_F1 0.9756338899196042\n",
      "\tnot_class_prec 0.9462190352020861, not_class_recall 0.9890971039182282, not_class_F1 0.9671830751291022\n",
      "\t\tMacroF1Mesure 0.9714084825243532\n",
      "threshold 0.7500000000000004\n",
      "\tclass_prec 0.9921953675730111, class_recall 0.959114139693356, class_F1 0.975374334859547\n",
      "\tnot_class_prec 0.9453125, not_class_recall 0.9894378194207837, not_class_F1 0.9668719826868653\n",
      "\t\tMacroF1Mesure 0.9711231587732061\n",
      "threshold 0.7600000000000005\n",
      "\tclass_prec 0.9924299772899319, class_recall 0.9571671939644683, class_F1 0.9744796828543111\n",
      "\tnot_class_prec 0.9428756897111328, not_class_recall 0.989778534923339, not_class_F1 0.9657579787234043\n",
      "\t\tMacroF1Mesure 0.9701188307888577\n",
      "threshold 0.7700000000000005\n",
      "\tclass_prec 0.992422328870927, class_recall 0.9561937211000243, class_F1 0.9739712444224095\n",
      "\tnot_class_prec 0.9416531604538088, not_class_recall 0.989778534923339, not_class_F1 0.9651162790697674\n",
      "\t\tMacroF1Mesure 0.9695437617460885\n",
      "threshold 0.7800000000000005\n",
      "\tclass_prec 0.9929113924050633, class_recall 0.9544901435872475, class_F1 0.9733217520784218\n",
      "\tnot_class_prec 0.9395604395604396, not_class_recall 0.9904599659284498, not_class_F1 0.9643390280311827\n",
      "\t\tMacroF1Mesure 0.9688303900548022\n",
      "threshold 0.7900000000000005\n",
      "\tclass_prec 0.9931524220136951, class_recall 0.9530299342905817, class_F1 0.9726775956284154\n",
      "\tnot_class_prec 0.9377620122541116, not_class_recall 0.9908006814310051, not_class_F1 0.9635520212060967\n",
      "\t\tMacroF1Mesure 0.9681148084172561\n",
      "threshold 0.8000000000000005\n",
      "\tclass_prec 0.9933959867919736, class_recall 0.9518130932100267, class_F1 0.9721600795426298\n",
      "\tnot_class_prec 0.9362729320888317, not_class_recall 0.9911413969335605, not_class_F1 0.9629261833829857\n",
      "\t\tMacroF1Mesure 0.9675431314628078\n",
      "threshold 0.8100000000000005\n",
      "\tclass_prec 0.993617564462599, class_recall 0.9471890971039182, class_F1 0.9698479940194369\n",
      "\tnot_class_prec 0.9306044131755676, not_class_recall 0.9914821124361158, not_class_F1 0.9600791817881886\n",
      "\t\tMacroF1Mesure 0.9649635879038128\n",
      "threshold 0.8200000000000005\n",
      "\tclass_prec 0.9936028659160696, class_recall 0.9449987831589195, class_F1 0.9686915304976924\n",
      "\tnot_class_prec 0.9279336734693877, not_class_recall 0.9914821124361158, not_class_F1 0.9586559051227145\n",
      "\t\tMacroF1Mesure 0.9636737178102035\n",
      "threshold 0.8300000000000005\n",
      "\tclass_prec 0.9935913868238914, class_recall 0.9432952056461427, class_F1 0.9677902621722847\n",
      "\tnot_class_prec 0.9258670060451798, not_class_recall 0.9914821124361158, not_class_F1 0.9575518262586377\n",
      "\t\tMacroF1Mesure 0.9626710442154611\n",
      "threshold 0.8400000000000005\n",
      "\tclass_prec 0.9938366718027735, class_recall 0.9418349963494768, class_F1 0.9671373235036862\n",
      "\tnot_class_prec 0.9241269841269841, not_class_recall 0.9918228279386712, not_class_F1 0.9567789646672145\n",
      "\t\tMacroF1Mesure 0.9619581440854503\n",
      "threshold 0.8500000000000005\n",
      "\tclass_prec 0.9940828402366864, class_recall 0.9403747870528109, class_F1 0.9664832416208102\n",
      "\tnot_class_prec 0.9223946784922394, not_class_recall 0.9921635434412266, not_class_F1 0.9560078791858174\n",
      "\t\tMacroF1Mesure 0.9612455604033139\n",
      "threshold 0.8600000000000005\n",
      "\tclass_prec 0.9945820433436533, class_recall 0.9381844731078122, class_F1 0.9655604257983719\n",
      "\tnot_class_prec 0.9198232323232324, not_class_recall 0.9928449744463373, not_class_F1 0.9549401933475341\n",
      "\t\tMacroF1Mesure 0.960250309572953\n",
      "threshold 0.8700000000000006\n",
      "\tclass_prec 0.9950866304628911, class_recall 0.9364808955950353, class_F1 0.9648946840521566\n",
      "\tnot_class_prec 0.9178470254957507, not_class_recall 0.993526405451448, not_class_F1 0.9541884816753927\n",
      "\t\tMacroF1Mesure 0.9595415828637747\n",
      "threshold 0.8800000000000006\n",
      "\tclass_prec 0.9950751684810782, class_recall 0.9342905816500365, class_F1 0.9637253671394502\n",
      "\tnot_class_prec 0.9152542372881356, not_class_recall 0.993526405451448, not_class_F1 0.9527854925665741\n",
      "\t\tMacroF1Mesure 0.9582554298530122\n",
      "threshold 0.8900000000000006\n",
      "\tclass_prec 0.995575221238938, class_recall 0.9308834266244829, class_F1 0.9621431266507358\n",
      "\tnot_class_prec 0.9113054341036851, not_class_recall 0.9942078364565587, not_class_F1 0.9509532344793872\n",
      "\t\tMacroF1Mesure 0.9565481805650615\n",
      "threshold 0.9000000000000006\n",
      "\tclass_prec 0.9955439056356488, class_recall 0.9243124847894865, class_F1 0.9586067642604746\n",
      "\tnot_class_prec 0.903685351502013, not_class_recall 0.9942078364565587, not_class_F1 0.9467878001297859\n",
      "\t\tMacroF1Mesure 0.9526972821951303\n",
      "threshold 0.9100000000000006\n",
      "\tclass_prec 0.9955180595834432, class_recall 0.918958384035045, class_F1 0.9557074158440901\n",
      "\tnot_class_prec 0.8975699784681637, not_class_recall 0.9942078364565587, not_class_F1 0.9434206272227611\n",
      "\t\tMacroF1Mesure 0.9495640215334256\n",
      "threshold 0.9200000000000006\n",
      "\tclass_prec 0.9954943016167506, class_recall 0.9140910197128255, class_F1 0.9530575995940116\n",
      "\tnot_class_prec 0.8920819321308469, not_class_recall 0.9942078364565587, not_class_F1 0.9403802771511441\n",
      "\t\tMacroF1Mesure 0.9467189383725778\n",
      "threshold 0.9300000000000006\n",
      "\tclass_prec 0.9957356076759062, class_recall 0.909223655390606, class_F1 0.9505152016282916\n",
      "\tnot_class_prec 0.8866950182260024, not_class_recall 0.9945485519591142, not_class_F1 0.9375301108077726\n",
      "\t\tMacroF1Mesure 0.944022656218032\n",
      "threshold 0.9400000000000006\n",
      "\tclass_prec 0.9959763948497854, class_recall 0.9036261864200535, class_F1 0.9475564629322445\n",
      "\tnot_class_prec 0.8805790108564535, not_class_recall 0.9948892674616695, not_class_F1 0.9342505199168134\n",
      "\t\tMacroF1Mesure 0.9409034914245289\n",
      "threshold 0.9500000000000006\n",
      "\tclass_prec 0.9964731416169289, class_recall 0.8938914577756145, class_F1 0.9423989737010905\n",
      "\tnot_class_prec 0.8701608100059559, not_class_recall 0.9955706984667803, not_class_F1 0.9286508819323057\n",
      "\t\tMacroF1Mesure 0.9355249278166982\n",
      "threshold 0.9600000000000006\n",
      "\tclass_prec 0.9967078189300411, class_recall 0.8841567291311755, class_F1 0.9370647407789527\n",
      "\tnot_class_prec 0.8599588114151221, not_class_recall 0.9959114139693356, not_class_F1 0.9229554783706978\n",
      "\t\tMacroF1Mesure 0.9300101095748252\n",
      "threshold 0.9700000000000006\n",
      "\tclass_prec 0.9969040247678018, class_recall 0.8620102214650767, class_F1 0.9245627773427303\n",
      "\tnot_class_prec 0.8375823546261816, not_class_recall 0.996252129471891, not_class_F1 0.91005291005291\n",
      "\t\tMacroF1Mesure 0.9173078436978201\n",
      "threshold 0.9800000000000006\n",
      "\tclass_prec 0.997098926602843, class_recall 0.8364565587734242, class_F1 0.9097406034939122\n",
      "\tnot_class_prec 0.8131776480400333, not_class_recall 0.9965928449744463, not_class_F1 0.8955909369259032\n",
      "\t\tMacroF1Mesure 0.9026657702099077\n",
      "threshold 0.9900000000000007\n",
      "\tclass_prec 0.9990580847723705, class_recall 0.7743976636651253, class_F1 0.8724979435152179\n",
      "\tnot_class_prec 0.7597823270277274, not_class_recall 0.9989778534923339, not_class_F1 0.8631145128054166\n",
      "\t\tMacroF1Mesure 0.8678062281603173\n"
     ]
    },
    {
     "data": {
      "image/png": "[encoded data removed]",
      "text/plain": [
       "<matplotlib.figure.Figure at 0x7f0b857b3b00>"
      ]
     },
     "metadata": {
      "needs_background": "light"
     },
     "output_type": "display_data"
    },
    {
     "data": {
      "image/png": "[encoded data removed]",
      "text/plain": [
       "<matplotlib.figure.Figure at 0x7f0b8f202470>"
      ]
     },
     "metadata": {
      "needs_background": "light"
     },
     "output_type": "display_data"
    }
   ],
   "source": [
    "plot_results(train_docs, min_threshold=0, max_threshold=1, step=0.01, trace=1)"
   ]
  },
  {
   "cell_type": "code",
   "execution_count": 36,
   "metadata": {
    "scrolled": true
   },
   "outputs": [
    {
     "name": "stderr",
     "output_type": "stream",
     "text": [
      "01:44:35 INFO:Complete items 00000\n",
      "01:44:37 INFO:Complete items 01000\n",
      "01:44:39 INFO:Complete items 02000\n",
      "01:44:41 INFO:Complete items 03000\n",
      "01:44:43 INFO:Complete items 04000\n",
      "01:44:45 INFO:Complete items 05000\n",
      "01:44:47 INFO:Complete items 06000\n",
      "01:44:49 INFO:Complete items 07000\n",
      "01:44:51 INFO:Complete items 08000\n",
      "01:44:53 INFO:Complete items 09000\n",
      "01:44:55 INFO:Complete items 10000\n",
      "01:44:58 INFO:Complete items 11000\n",
      "01:45:00 INFO:Complete items 12000\n",
      "01:45:02 INFO:Complete items 13000\n",
      "01:45:04 INFO:Complete items 14000\n",
      "01:45:06 INFO:Complete items 15000\n",
      "01:45:08 INFO:Complete items 16000\n"
     ]
    }
   ],
   "source": [
    "threshold = 0.6\n",
    "\n",
    "with open('my_submission.csv', 'w') as fout:\n",
    "    writer = csv.writer(fout)\n",
    "    writer.writerow(['Id', 'Prediction'])\n",
    "    for item in classifier.predict_all(test_docs):\n",
    "        prediction =  1 if item[3] > threshold else 0\n",
    "        writer.writerow([item[0], prediction])"
   ]
  },
  {
   "cell_type": "code",
   "execution_count": null,
   "metadata": {},
   "outputs": [],
   "source": []
  }
 ],
 "metadata": {
  "anaconda-cloud": {},
  "kernelspec": {
   "display_name": "Python 3",
   "language": "python",
   "name": "python3"
  },
  "language_info": {
   "codemirror_mode": {
    "name": "ipython",
    "version": 3
   },
   "file_extension": ".py",
   "mimetype": "text/x-python",
   "name": "python",
   "nbconvert_exporter": "python",
   "pygments_lexer": "ipython3",
   "version": "3.6.6"
  }
 },
 "nbformat": 4,
 "nbformat_minor": 1
}
