{
 "cells": [
  {
   "cell_type": "markdown",
   "metadata": {},
   "source": [
    "# ** Описание **"
   ]
  },
  {
   "cell_type": "raw",
   "metadata": {},
   "source": [
    "Построить графики распределения в спам и не спам множествах следующих признаков:\n",
    "\n",
    "1\tКоличество слов на странице\n",
    "2\tСредняя длина слова\n",
    "3\tКоличество слов в заголовке страниц (слова в теге <html><head><title> Some text </title>)\n",
    "4\tКоличество слов в анкорах ссылок (<html><body><a> Some text </a>)\n",
    "5\tКоэффициент сжатия\n",
    "\n",
    "Нужно посчитать статистику минимум по трем признакам и обязательно сделать для 1-го и 2-го признаков\n",
    "\n",
    "И отправить первое решение в соревнование https://kaggle.com/join/antispam_infopoisk\n",
    "На основании одного из указанных выше признаков попытаться разделить мн-во, так чтобы score в соревновании был больше 0.55\n",
    "\n",
    "При выполнении всех этих условия в течении семинара +1 балл к ДЗ\n",
    "\n",
    "Описание ДЗ и правил выставления за него баллов в https://inclass.kaggle.com/c/antispam-infopoisk  \n",
    "Сроки ДЗ уточнить у преподователя - обычно 2 недели"
   ]
  },
  {
   "cell_type": "code",
   "execution_count": 1,
   "metadata": {},
   "outputs": [],
   "source": [
    "from __future__ import division\n",
    "\n",
    "import base64\n",
    "import csv\n",
    "import gzip\n",
    "import zlib\n",
    "import sys\n",
    "from importlib import reload\n",
    "import numpy as np\n",
    "import torch\n",
    "from torch import nn\n",
    "from torchvision import transforms\n",
    "from torch.utils.data import DataLoader, Dataset\n",
    "from sklearn.model_selection import train_test_split\n",
    "from sklearn.feature_extraction.text import TfidfVectorizer\n",
    "\n",
    "from collections import namedtuple\n",
    "\n",
    "%matplotlib inline\n",
    "import matplotlib.pyplot as plt"
   ]
  },
  {
   "cell_type": "code",
   "execution_count": 2,
   "metadata": {},
   "outputs": [],
   "source": [
    "TRACE_NUM = 1000\n",
    "import logging\n",
    "reload(logging)\n",
    "logging.basicConfig(format='%(asctime)s %(levelname)s:%(message)s', level=logging.INFO, datefmt='%H:%M:%S')\n",
    "\n",
    "def trace(items_num, trace_num=TRACE_NUM):\n",
    "    if items_num % trace_num == 0: logging.info(\"Complete items %05d\" % items_num)"
   ]
  },
  {
   "cell_type": "markdown",
   "metadata": {},
   "source": [
    "### Утилиты"
   ]
  },
  {
   "cell_type": "markdown",
   "metadata": {},
   "source": [
    "#### Декораторы"
   ]
  },
  {
   "cell_type": "code",
   "execution_count": 3,
   "metadata": {},
   "outputs": [],
   "source": [
    "def to_utf8(text):\n",
    "    if isinstance(text, str): \n",
    "        text = text.encode('utf8')\n",
    "    return text\n",
    "\n",
    "def convert2unicode(f):\n",
    "    def tmp(text):\n",
    "        if not isinstance(text, str): \n",
    "            try:\n",
    "                text = text.decode('utf8')\n",
    "            except UnicodeDecodeError:\n",
    "                try:\n",
    "                    text = text.decode('cp1251')\n",
    "                except UnicodeDecodeError:\n",
    "                    text = text.decode('koi8_r')\n",
    "        return f(text)\n",
    "    return tmp\n",
    "\n",
    "def convert2lower(f):\n",
    "    def tmp(text):        \n",
    "        return f(text.lower())\n",
    "    return tmp\n",
    "\n",
    "#P.S. Декораторы могут усложнять отладку, так что от них вполне можно отказаться и воспользоваться copy-paste"
   ]
  },
  {
   "cell_type": "markdown",
   "metadata": {},
   "source": [
    "### Извлечение текста из html"
   ]
  },
  {
   "cell_type": "markdown",
   "metadata": {},
   "source": [
    "#### Извлечение текста при помощи встроенных модулей"
   ]
  },
  {
   "cell_type": "code",
   "execution_count": 4,
   "metadata": {},
   "outputs": [],
   "source": [
    "from html.parser import HTMLParser\n",
    "import re\n",
    "\n",
    "###Извлечение текста из title можно вписать сюда\n",
    "\n",
    "class TextHTMLParser(HTMLParser):\n",
    "    def __init__(self):\n",
    "        HTMLParser.__init__(self)\n",
    "        self._text = []\n",
    "        self._title = []\n",
    "        self._a = []\n",
    "        self._in_title = False\n",
    "        self._in_a = False\n",
    "\n",
    "    def handle_data(self, data):\n",
    "        text = data.strip()\n",
    "        if len(text) > 0:\n",
    "            text = re.sub('[ \\t\\r\\n]+', ' ', text)\n",
    "            self._text.append(text + ' ')\n",
    "            if self._in_title:\n",
    "                self._title.append(text + ' ')\n",
    "            if self._in_a:\n",
    "                self._a.append(text + ' ')\n",
    "\n",
    "    def handle_starttag(self, tag, attrs):\n",
    "        if tag == 'p':\n",
    "            self._text.append('\\n\\n')\n",
    "        elif tag == 'br':\n",
    "            self._text.append('\\n')\n",
    "        elif tag == 'title':\n",
    "            self._in_title = True\n",
    "        elif tag == 'a':\n",
    "            self._in_a = True\n",
    "\n",
    "    def handle_endtag(self, tag):\n",
    "        if tag == 'title':\n",
    "            self._in_title = False\n",
    "        elif tag == 'a':\n",
    "            self._in_a = False\n",
    "\n",
    "    def handle_startendtag(self, tag, attrs):\n",
    "        if tag == 'br':\n",
    "            self._text.append('\\n\\n')\n",
    "\n",
    "    def text(self):\n",
    "        return ''.join(self._text).strip(), ''.join(self._title).strip(), ''.join(self._a).strip()\n",
    "\n",
    "@convert2unicode\n",
    "def html2text_parser(text):\n",
    "    parser = TextHTMLParser()\n",
    "    parser.feed(text)\n",
    "    return parser.text()"
   ]
  },
  {
   "cell_type": "markdown",
   "metadata": {},
   "source": [
    "#### Извлечение текста при помощи дополнительных библиотек"
   ]
  },
  {
   "cell_type": "code",
   "execution_count": 5,
   "metadata": {},
   "outputs": [],
   "source": [
    "def html2text_bs(raw_html):\n",
    "    from bs4 import BeautifulSoup\n",
    "    \"\"\"\n",
    "    Тут производится извлечения из html текста\n",
    "    \"\"\"\n",
    "    soup = BeautifulSoup(raw_html, \"html.parser\")\n",
    "    [s.extract() for s in soup(['script', 'style'])]\n",
    "    return soup.get_text()\n",
    "\n",
    "def html2text_bs_visible(raw_html):\n",
    "    from bs4 import BeautifulSoup\n",
    "    \"\"\"\n",
    "    Тут производится извлечения из html текста, который видим пользователю\n",
    "    \"\"\"\n",
    "    soup = BeautifulSoup(raw_html, \"html.parser\")    \n",
    "    [s.extract() for s in soup(['style', 'script', '[document]', 'head', 'title'])]\n",
    "    return soup.get_text()\n",
    "\n",
    "def html2text_boilerpipe(raw_html):\n",
    "    import boilerpipe\n",
    "    \"\"\"\n",
    "    еще одна библиотека очень хорошо извлекающая именно видимый пользователю текст,\n",
    "    но она завязана на java\n",
    "    \"\"\"\n",
    "    pass"
   ]
  },
  {
   "cell_type": "markdown",
   "metadata": {},
   "source": [
    "#### Выбираем какой метод для конвертации html в текст будет основным"
   ]
  },
  {
   "cell_type": "code",
   "execution_count": 6,
   "metadata": {},
   "outputs": [],
   "source": [
    "#html2text = html2text_bs\n",
    "html2text = html2text_parser"
   ]
  },
  {
   "cell_type": "markdown",
   "metadata": {},
   "source": [
    "#### Методы для токенизации текста"
   ]
  },
  {
   "cell_type": "code",
   "execution_count": 7,
   "metadata": {},
   "outputs": [],
   "source": [
    "@convert2lower\n",
    "@convert2unicode\n",
    "def easy_tokenizer(text):\n",
    "    word = str()\n",
    "    for symbol in text:\n",
    "        if symbol.isalnum(): word += symbol\n",
    "        elif word:\n",
    "            yield word\n",
    "            word = str()\n",
    "    if word: yield word\n",
    "\n",
    "PYMORPHY_CACHE = {}\n",
    "MORPH = None\n",
    "#hint, чтобы установка pymorphy2 не была бы обязательной\n",
    "def get_lemmatizer():\n",
    "    import pymorphy2\n",
    "    global MORPH\n",
    "    if MORPH is None: MORPH = pymorphy2.MorphAnalyzer()\n",
    "    return MORPH\n",
    "\n",
    "@convert2lower\n",
    "@convert2unicode\n",
    "def pymorphy_tokenizer(text):\n",
    "    global PYMORPHY_CACHE\n",
    "    for word in easy_tokenizer(text):\n",
    "        word_hash = hash(word)\n",
    "        if word_hash not in PYMORPHY_CACHE:\n",
    "            PYMORPHY_CACHE[word_hash] = get_lemmatizer().parse(word)[0].normal_form            \n",
    "        yield PYMORPHY_CACHE[word_hash]"
   ]
  },
  {
   "cell_type": "markdown",
   "metadata": {},
   "source": [
    "#### Основная функция, которая вызывается для преобразования html в список слов"
   ]
  },
  {
   "cell_type": "code",
   "execution_count": 8,
   "metadata": {},
   "outputs": [],
   "source": [
    "def html2word(raw_html, to_text=html2text, tokenizer=easy_tokenizer):\n",
    "    text, title, a = to_text(raw_html)\n",
    "    text = tokenizer(text.lower())\n",
    "    title = tokenizer(title.lower())\n",
    "    a = tokenizer(a.lower())\n",
    "    return text, title, a"
   ]
  },
  {
   "cell_type": "markdown",
   "metadata": {},
   "source": [
    "#### Рассчет финальных метрик"
   ]
  },
  {
   "cell_type": "code",
   "execution_count": 9,
   "metadata": {},
   "outputs": [],
   "source": [
    "def safe_divide(a, b):\n",
    "    if a == 0: return 0.0\n",
    "    elif b == 0: return 0.0\n",
    "    else: return a / b\n",
    "\n",
    "def calculate_metrics(predictions, threshold):    \n",
    "    \"\"\"\n",
    "    Функция подсчета метрик\n",
    "    Параметры\n",
    "    predictions - ранки по документам\n",
    "    threshold  - порог для метрик\n",
    "    \"\"\"\n",
    "    true_positive = 0\n",
    "    false_positive = 0\n",
    "    true_negative = 0\n",
    "    false_negative = 0\n",
    "    for (url_id, mark, url, prediction) in predictions:        \n",
    "        mark_predict = prediction > threshold\n",
    "\n",
    "        if mark_predict:                     \n",
    "            if mark_predict == mark: true_positive += 1\n",
    "            else: false_positive += 1                    \n",
    "        else:                     \n",
    "            if  mark_predict == mark: true_negative += 1\n",
    "            else: false_negative += 1\n",
    "\n",
    "    class_prec  = safe_divide(true_positive, true_positive + false_positive)\n",
    "    class_recall = safe_divide(true_positive, true_positive + false_negative)\n",
    "        \n",
    "    class_F1 = safe_divide(2 * class_prec * class_recall, class_prec + class_recall)\n",
    "    \n",
    "    \n",
    "    not_class_prec = safe_divide(true_negative, true_negative + false_negative)\n",
    "    not_class_recall = safe_divide(true_negative, true_negative + false_positive)\n",
    "    \n",
    "    not_class_F1 = safe_divide(2 * not_class_prec * not_class_recall, not_class_prec + not_class_recall)\n",
    "    \n",
    "    return ( (class_prec, class_recall, class_F1), (not_class_prec, not_class_recall, not_class_F1) )\n",
    "\n",
    "def arange(start, stop, step):\n",
    "    cur_value = start\n",
    "    while True:\n",
    "        if cur_value > stop: break\n",
    "        yield cur_value\n",
    "        cur_value += step\n",
    "\n",
    "def plot_results(docs, min_threshold=-1, max_threshold=1, step=0.1, trace=False):\n",
    "    x = []\n",
    "    y_p = []\n",
    "    y_n = []\n",
    "    docs_predictions = classifier.predict_all(docs)\n",
    "    for threshold in arange(min_threshold, max_threshold, step):\n",
    "        r = calculate_metrics(docs_predictions, threshold)\n",
    "        x.append(threshold)\n",
    "        y_p.append(r[0])\n",
    "        y_n.append(r[1])        \n",
    "        if trace: \n",
    "            print('threshold %s' % threshold)\n",
    "            print('\\tclass_prec %s, class_recall %s, class_F1 %s' % r[0])\n",
    "            print('\\tnot_class_prec %s, not_class_recall %s, not_class_F1 %s' % r[1])\n",
    "            print('\\t\\tMacroF1Mesure %s' % ((r[0][2] + r[1][2])/2))\n",
    "    plot_stats(x, y_p, \"Class Result\")\n",
    "    plot_stats(x, y_n, \"Not class Result\")    \n",
    "\n",
    "\n",
    "def plot_stats(x, y, title):\n",
    "    plt.figure(figsize=(10, 5))\n",
    "\n",
    "    prec, = plt.plot( x, \n",
    "                     [k[0] for k in y], \"r\", label='Precision', \n",
    "                     linewidth=1)\n",
    "    accur, = plt.plot( x, \n",
    "                      [k[1] for k in y], \"b\", label='Recall',\n",
    "                      linewidth=1)\n",
    "    f1, =    plt.plot( x, \n",
    "                      [k[2] for k in y], \"g\", label='F1',\n",
    "                      linewidth=1)\n",
    "    plt.grid(True)\n",
    "    plt.legend(handles=[prec, accur, f1])\n",
    "    plt.title(title)\n",
    "    plt.show()"
   ]
  },
  {
   "cell_type": "code",
   "execution_count": 10,
   "metadata": {},
   "outputs": [],
   "source": [
    "def calc_features(url, html_data):\n",
    "    words, title, a = html2word(html_data)\n",
    "    words = list(words)\n",
    "    title = list(title)\n",
    "    a = list(a)\n",
    "    words_num = len(words)\n",
    "    avg_word_len = 0\n",
    "    title_words_num = len(title)    \n",
    "    anchor_words_num = len(a)\n",
    "    compression_level = 0\n",
    "    \n",
    "    for word in words:\n",
    "        avg_word_len += len(word)\n",
    "    avg_word_len /= words_num\n",
    "    \n",
    "    text = ' '.join(words)\n",
    "    compr = zlib.compress(bytes(text.encode()))\n",
    "    compression_level = safe_divide(sys.getsizeof(text), sys.getsizeof(compr))\n",
    "    \n",
    "    return [words_num, avg_word_len, title_words_num, anchor_words_num, compression_level, ' '.join(words), ' '.join(title), ' '.join(a)]"
   ]
  },
  {
   "cell_type": "code",
   "execution_count": 11,
   "metadata": {},
   "outputs": [
    {
     "name": "stdout",
     "output_type": "stream",
     "text": [
      "[8, 3.5, 2, 2, 1.6941176470588235, 'заголовок ololo спам 1 2 3 spam com', 'заголовок ololo', 'spam com']\n"
     ]
    }
   ],
   "source": [
    "test_html_data = u'''\n",
    "<html>\n",
    "<title> Заголовок Ololo </title>\n",
    "спам 1 2 3\n",
    "<a>\n",
    "spam.com\n",
    "</a>\n",
    "</html>\n",
    "'''\n",
    "test_url = 'http://ololo'\n",
    "test_features = calc_features(test_url, test_html_data)\n",
    "print(test_features)"
   ]
  },
  {
   "cell_type": "code",
   "execution_count": 12,
   "metadata": {},
   "outputs": [],
   "source": [
    "DocItem = namedtuple('DocItem', ['doc_id', 'is_spam', 'url', 'features'])\n",
    "\n",
    "def load_csv(train_input_file_name, test_input_file_name, calc_features_f):    \n",
    "    \"\"\"\n",
    "    Загружаем данные и извлекаем на лету признаки\n",
    "    Сам контент не сохраняется, чтобы уменьшить потребление памяти - чтобы\n",
    "    можно было запускать даже на ноутбуках в классе\n",
    "    \"\"\"\n",
    "    train_docs = []\n",
    "    test_docs = []\n",
    "    # if input_file_name.endswith('gz') else open(input_file_name) :            \n",
    "    with gzip.open(train_input_file_name) as input_file: \n",
    "        headers = input_file.readline()\n",
    "        for i, line in enumerate(input_file):\n",
    "            trace(i)\n",
    "            parts = line.strip().split(b'\\t')\n",
    "            url_id = int(parts[0])\n",
    "            mark = bool(int(parts[1]))\n",
    "            url = parts[2]\n",
    "            pageInb64 = parts[3]\n",
    "            html_data = base64.b64decode(pageInb64)\n",
    "            features = calc_features_f(url, html_data)\n",
    "            train_docs.append(DocItem(url_id, mark, url, features))\n",
    "                     \n",
    "    with gzip.open(test_input_file_name) as input_file: \n",
    "        headers = input_file.readline()\n",
    "        for i, line in enumerate(input_file):\n",
    "            trace(i)\n",
    "            parts = line.strip().split(b'\\t')\n",
    "            url_id = int(parts[0])\n",
    "            mark = bool(int(parts[1]))\n",
    "            url = parts[2]\n",
    "            pageInb64 = parts[3]\n",
    "            html_data = base64.b64decode(pageInb64)\n",
    "            features = calc_features_f(url, html_data)\n",
    "            test_docs.append(DocItem(url_id, mark, url, features))\n",
    "        \n",
    "    return train_docs, test_docs"
   ]
  },
  {
   "cell_type": "code",
   "execution_count": 13,
   "metadata": {},
   "outputs": [],
   "source": [
    "vectorizer = TfidfVectorizer(ngram_range=(1, 1), max_features=1000)\n",
    "\n",
    "def get_features(train_row, test_row):\n",
    "    train_words = []\n",
    "    test_words = []\n",
    "    train_title = []\n",
    "    test_title = []\n",
    "    train_a = []\n",
    "    test_a = []\n",
    "    train_docs = []\n",
    "    test_docs = []\n",
    "    for doc in train_row:\n",
    "        train_words.append(doc.features[-3])\n",
    "        train_title.append(doc.features[-2])\n",
    "        train_a.append(doc.features[-1])\n",
    "    for doc in test_row:\n",
    "        test_words.append(doc.features[-3])\n",
    "        test_title.append(doc.features[-2])\n",
    "        test_a.append(doc.features[-1])\n",
    "        \n",
    "    vectorizer.fit(train_words + test_words)\n",
    "    train_tfidf = vectorizer.transform(train_words)\n",
    "    test_tfidf = vectorizer.transform(test_words)\n",
    "            \n",
    "    for i in range(len(train_words)):\n",
    "        train_docs.append(DocItem(train_row[i].doc_id, train_row[i].is_spam,\n",
    "                          train_row[i].url,\n",
    "                          train_row[i].features[:-3] + train_tfidf[i].todense().tolist()[0]))\n",
    "                         # train_row[i].features[:-3] + train_tfidf[i].todense().tolist()[0]))\n",
    "        #features[i] = tfidf[i].todense().tolist()[0]\n",
    "        \n",
    "    for i in range(len(test_words)):\n",
    "        test_docs.append(DocItem(test_row[i].doc_id, test_row[i].is_spam,\n",
    "                         test_row[i].url,\n",
    "                         test_row[i].features[:-3] + test_tfidf[i].todense().tolist()[0]))\n",
    "        #features[i] = tfidf[i].todense().tolist()[0]\n",
    "    \n",
    "    return train_docs, test_docs"
   ]
  },
  {
   "cell_type": "markdown",
   "metadata": {},
   "source": [
    "** Обрабатываем входной файл **\n",
    "<br>\n",
    "Формат - поля разделенные табуляциями\n",
    "<br>\n",
    "0 - идентификатор документа\n",
    "<br>\n",
    "1 - метка класса 0 - не спам, 1 - спам\n",
    "<br>\n",
    "2 - урл документа\n",
    "<br>\n",
    "3 - документ в кодировке base64\n",
    "\n",
    "Выходной формат - массив кортежей вида\n",
    "(doc_id, is_spam, url, html_data)"
   ]
  },
  {
   "cell_type": "code",
   "execution_count": 14,
   "metadata": {
    "scrolled": true
   },
   "outputs": [
    {
     "name": "stderr",
     "output_type": "stream",
     "text": [
      "19:16:12 INFO:Complete items 00000\n",
      "19:17:07 INFO:Complete items 01000\n",
      "19:17:53 INFO:Complete items 02000\n",
      "19:18:41 INFO:Complete items 03000\n",
      "19:19:28 INFO:Complete items 04000\n",
      "19:20:19 INFO:Complete items 05000\n",
      "19:21:06 INFO:Complete items 06000\n",
      "19:21:57 INFO:Complete items 07000\n",
      "19:21:59 INFO:Complete items 00000\n",
      "19:23:10 INFO:Complete items 01000\n",
      "19:24:15 INFO:Complete items 02000\n",
      "19:25:15 INFO:Complete items 03000\n",
      "19:26:08 INFO:Complete items 04000\n",
      "19:26:59 INFO:Complete items 05000\n",
      "19:28:01 INFO:Complete items 06000\n",
      "19:28:56 INFO:Complete items 07000\n",
      "19:29:52 INFO:Complete items 08000\n",
      "19:30:48 INFO:Complete items 09000\n",
      "19:32:03 INFO:Complete items 10000\n",
      "19:32:57 INFO:Complete items 11000\n",
      "19:33:53 INFO:Complete items 12000\n",
      "19:34:44 INFO:Complete items 13000\n",
      "19:35:43 INFO:Complete items 14000\n",
      "19:36:41 INFO:Complete items 15000\n",
      "19:37:45 INFO:Complete items 16000\n"
     ]
    },
    {
     "name": "stdout",
     "output_type": "stream",
     "text": [
      "CPU times: user 21min 32s, sys: 2.61 s, total: 21min 35s\n",
      "Wall time: 21min 35s\n"
     ]
    }
   ],
   "source": [
    "%%time\n",
    "\n",
    "TRAIN_DATA_FILE  = 'kaggle_train_data_tab.csv.gz'\n",
    "TEST_DATA_FILE  = 'kaggle_test_data_tab.csv.gz'\n",
    "\n",
    "train_row, test_row = load_csv(TRAIN_DATA_FILE, TEST_DATA_FILE, calc_features)"
   ]
  },
  {
   "cell_type": "code",
   "execution_count": 15,
   "metadata": {},
   "outputs": [
    {
     "data": {
      "text/plain": [
       "8"
      ]
     },
     "execution_count": 15,
     "metadata": {},
     "output_type": "execute_result"
    }
   ],
   "source": [
    "len(train_row[2].features)"
   ]
  },
  {
   "cell_type": "code",
   "execution_count": 16,
   "metadata": {},
   "outputs": [
    {
     "name": "stdout",
     "output_type": "stream",
     "text": [
      "CPU times: user 3min 22s, sys: 2.72 s, total: 3min 25s\n",
      "Wall time: 3min 25s\n"
     ]
    }
   ],
   "source": [
    "%%time\n",
    "\n",
    "train_docs, test_docs = get_features(train_row, test_row)"
   ]
  },
  {
   "cell_type": "code",
   "execution_count": 17,
   "metadata": {
    "scrolled": true
   },
   "outputs": [
    {
     "data": {
      "text/plain": [
       "1005"
      ]
     },
     "execution_count": 17,
     "metadata": {},
     "output_type": "execute_result"
    }
   ],
   "source": [
    "len(train_docs[2].features)"
   ]
  },
  {
   "cell_type": "code",
   "execution_count": 37,
   "metadata": {},
   "outputs": [
    {
     "data": {
      "image/png": "[encoded data removed]",
      "text/plain": [
       "<matplotlib.figure.Figure at 0x7f5a6e145470>"
      ]
     },
     "metadata": {
      "needs_background": "light"
     },
     "output_type": "display_data"
    }
   ],
   "source": [
    "is_spam_data = [doc.features[0] for doc in train_docs if doc[1] == True]\n",
    "not_spam_data = [doc.features[0] for doc in train_docs if doc[1] == False]\n",
    "bins = range(0,3000,10)\n",
    "plt.hist(is_spam_data, bins=bins, color='red', normed=True, alpha=0.7, label='spam')\n",
    "plt.hist(not_spam_data, bins=bins, color='blue', normed=True, alpha=0.7, label='not_spam')\n",
    "plt.title('NumWords')\n",
    "plt.legend()\n",
    "plt.show()"
   ]
  },
  {
   "cell_type": "code",
   "execution_count": 38,
   "metadata": {},
   "outputs": [
    {
     "data": {
      "image/png": "[encoded data removed]",
      "text/plain": [
       "<matplotlib.figure.Figure at 0x7f5a6e145be0>"
      ]
     },
     "metadata": {
      "needs_background": "light"
     },
     "output_type": "display_data"
    }
   ],
   "source": [
    "is_spam_data = [doc.features[1] for doc in train_docs if doc[1] == True]\n",
    "not_spam_data = [doc.features[1] for doc in train_docs if doc[1] == False]\n",
    "bins = 100\n",
    "plt.hist(is_spam_data, bins=bins, color='red', normed=True, alpha=0.7, label='spam')\n",
    "plt.hist(not_spam_data, bins=bins, color='blue', normed=True, alpha=0.7, label='not_spam')\n",
    "plt.title('AvgWordLen')\n",
    "plt.legend()\n",
    "plt.show()"
   ]
  },
  {
   "cell_type": "code",
   "execution_count": 39,
   "metadata": {},
   "outputs": [
    {
     "data": {
      "image/png": "[encoded data removed]",
      "text/plain": [
       "<matplotlib.figure.Figure at 0x7f5a6dd17c50>"
      ]
     },
     "metadata": {
      "needs_background": "light"
     },
     "output_type": "display_data"
    }
   ],
   "source": [
    "is_spam_data = [doc.features[2] for doc in train_docs if doc[1] == True]\n",
    "not_spam_data = [doc.features[2] for doc in train_docs if doc[1] == False]\n",
    "bins = range(0, 30, 1)\n",
    "plt.hist(is_spam_data, bins=bins, color='red', normed=True, alpha=0.7, label='spam')\n",
    "plt.hist(not_spam_data, bins=bins, color='blue', normed=True, alpha=0.7, label='not_spam')\n",
    "plt.title('NumWordsTitle')\n",
    "plt.legend()\n",
    "plt.show()"
   ]
  },
  {
   "cell_type": "code",
   "execution_count": 40,
   "metadata": {},
   "outputs": [
    {
     "data": {
      "image/png": "[encoded data removed]",
      "text/plain": [
       "<matplotlib.figure.Figure at 0x7f5a5e598f60>"
      ]
     },
     "metadata": {
      "needs_background": "light"
     },
     "output_type": "display_data"
    }
   ],
   "source": [
    "is_spam_data = [doc.features[3] for doc in train_docs if doc[1] == True]\n",
    "not_spam_data = [doc.features[3] for doc in train_docs if doc[1] == False]\n",
    "bins = range(0, 1000, 10)\n",
    "plt.hist(is_spam_data, bins=bins, color='red', normed=True, alpha=0.7, label='spam')\n",
    "plt.hist(not_spam_data, bins=bins, color='blue', normed=True, alpha=0.7, label='not_spam')\n",
    "plt.title('NumWordsAnchor')\n",
    "plt.legend()\n",
    "plt.show()"
   ]
  },
  {
   "cell_type": "code",
   "execution_count": 41,
   "metadata": {},
   "outputs": [
    {
     "data": {
      "image/png": "[encoded data removed]",
      "text/plain": [
       "<matplotlib.figure.Figure at 0x7f5a5e595f60>"
      ]
     },
     "metadata": {
      "needs_background": "light"
     },
     "output_type": "display_data"
    }
   ],
   "source": [
    "is_spam_data = [doc.features[4] for doc in train_docs if doc[1] == True]\n",
    "not_spam_data = [doc.features[4] for doc in train_docs if doc[1] == False]\n",
    "bins = 100\n",
    "plt.hist(is_spam_data, bins=bins, color='red', normed=True, alpha=0.7, label='spam')\n",
    "plt.hist(not_spam_data, bins=bins, color='blue', normed=True, alpha=0.7, label='not_spam')\n",
    "plt.title('Compression')\n",
    "plt.legend()\n",
    "plt.show()"
   ]
  },
  {
   "cell_type": "markdown",
   "metadata": {},
   "source": [
    "** Классификатор: **\n",
    "Нужно реализовать"
   ]
  },
  {
   "cell_type": "code",
   "execution_count": 18,
   "metadata": {},
   "outputs": [],
   "source": [
    "from IPython.display import clear_output\n",
    "\n",
    "def train(network, train_loader, test_loader, epochs, learning_rate, ravel_init=False, optim=torch.optim.Adam):\n",
    "    loss = nn.BCELoss()\n",
    "    optimizer = optim(network.parameters(), lr=learning_rate)\n",
    "    train_loss_epochs = []\n",
    "    test_loss_epochs = []\n",
    "    train_accuracy_epochs = []\n",
    "    test_accuracy_epochs = []\n",
    "    try:\n",
    "        for epoch in range(epochs):\n",
    "            losses = []\n",
    "            accuracies = []\n",
    "            network.train()\n",
    "            for X, y in train_loader:\n",
    "                if ravel_init:\n",
    "                    X = X.view(X.size(0), -1)\n",
    "                network.zero_grad()\n",
    "                prediction = network(X)\n",
    "                loss_batch = loss(prediction, y)\n",
    "                losses.append(loss_batch.item())\n",
    "                loss_batch.backward()\n",
    "                optimizer.step()\n",
    "                accuracies.append(((prediction.data.numpy() > 0.5)==y.data.numpy()).mean())\n",
    "            train_loss_epochs.append(np.mean(losses))\n",
    "            train_accuracy_epochs.append(np.mean(accuracies))\n",
    "            losses = []\n",
    "            accuracies = []  \n",
    "            network.eval()\n",
    "            for X, y in test_loader:\n",
    "                if ravel_init:\n",
    "                    X = X.view(X.size(0), -1)\n",
    "                prediction = network(X)\n",
    "                loss_batch = loss(prediction, y)\n",
    "                losses.append(loss_batch.item())\n",
    "                accuracies.append(((prediction.data.numpy() > 0.5)==y.data.numpy()).mean())\n",
    "            test_loss_epochs.append(np.mean(losses))\n",
    "            test_accuracy_epochs.append(np.mean(accuracies))\n",
    "            clear_output(True)\n",
    "            print('\\rEpoch {0}... (Train/Test) BCE: {1:.3f}/{2:.3f}\\tAccuracy: {3:.3f}/{4:.3f}'.format(\n",
    "                        epoch, train_loss_epochs[-1], test_loss_epochs[-1],\n",
    "                        train_accuracy_epochs[-1], test_accuracy_epochs[-1]))\n",
    "            plt.figure(figsize=(12, 5))\n",
    "            plt.plot(train_loss_epochs, label='Train')\n",
    "            plt.plot(test_loss_epochs, label='Test')\n",
    "            plt.xlabel('Epochs', fontsize=16)\n",
    "            plt.ylabel('Loss', fontsize=16)\n",
    "            plt.legend(loc=0, fontsize=16)\n",
    "            plt.grid()\n",
    "            plt.show()\n",
    "    except KeyboardInterrupt:\n",
    "        pass\n",
    "    return train_loss_epochs, \\\n",
    "           test_loss_epochs, \\\n",
    "           train_accuracy_epochs, \\\n",
    "           test_accuracy_epochs"
   ]
  },
  {
   "cell_type": "code",
   "execution_count": 19,
   "metadata": {},
   "outputs": [],
   "source": [
    "class MyDataset(Dataset):\n",
    "    def __init__(self, X, Y):\n",
    "        self.X = X\n",
    "        self.Y = Y\n",
    "        \n",
    "    def __len__(self):\n",
    "        return len(self.X)\n",
    "    \n",
    "    def __getitem__(self, i):\n",
    "        return self.X[i], self.Y[i]"
   ]
  },
  {
   "cell_type": "code",
   "execution_count": 20,
   "metadata": {},
   "outputs": [],
   "source": [
    "class Classifier:\n",
    "    \n",
    "    def __init__(self, epochs=50, lr=0.00001):\n",
    "        self.epochs = epochs\n",
    "        self.lr = lr\n",
    "\n",
    "    def predict(self, doc):\n",
    "        X = np.zeros((len(doc.features)))\n",
    "        X[:] = doc.features\n",
    "        return self.model(torch.from_numpy(X)).data.numpy()[0]\n",
    "    \n",
    "    def predict_all(self, docs):\n",
    "        res = []\n",
    "        for doc_num, doc in enumerate(docs):\n",
    "            trace(doc_num)\n",
    "            prediction = self.predict(doc)            \n",
    "            res.append( (doc.doc_id, doc.is_spam, doc.url, prediction) )\n",
    "        return res\n",
    "    \n",
    "    def train(self, docs):\n",
    "        X = np.zeros((len(docs), len(docs[0].features)))\n",
    "        y = np.zeros(len(docs))\n",
    "        for doc_num, doc in enumerate(docs):                            \n",
    "            X[doc_num] = doc.features\n",
    "            y[doc_num] = doc.is_spam\n",
    "        self.model = nn.Sequential(\n",
    "            nn.Linear(len(docs[0].features), 300),\n",
    "            nn.ReLU(inplace=True),\n",
    "            nn.Linear(300, 200),\n",
    "            nn.ReLU(inplace=True),\n",
    "            nn.Linear(200, 200),\n",
    "            nn.ReLU(inplace=True),\n",
    "            nn.Linear(200, 50),\n",
    "            nn.ReLU(inplace=True),\n",
    "            nn.Linear(50, 1), \n",
    "            nn.Sigmoid()).double()\n",
    "        X_train, X_test, y_train, y_test = train_test_split(\n",
    "            X, y, test_size=0.1, random_state=42)\n",
    "        train_set = MyDataset(X_train, y_train)\n",
    "        test_set = MyDataset(X_test, y_test)\n",
    "        train_loader = DataLoader(train_set, batch_size=64)\n",
    "        test_loader = DataLoader(test_set, batch_size=64)\n",
    "        train(self.model, train_loader, test_loader, epochs=self.epochs, learning_rate=self.lr)"
   ]
  },
  {
   "cell_type": "code",
   "execution_count": 21,
   "metadata": {
    "scrolled": false
   },
   "outputs": [
    {
     "name": "stdout",
     "output_type": "stream",
     "text": [
      "\r",
      "Epoch 493... (Train/Test) BCE: 0.067/0.095\tAccuracy: 0.523/0.560\n"
     ]
    },
    {
     "data": {
      "image/png": "[encoded data removed]",
      "text/plain": [
       "<matplotlib.figure.Figure at 0x7efd2c9e6390>"
      ]
     },
     "metadata": {
      "needs_background": "light"
     },
     "output_type": "display_data"
    }
   ],
   "source": [
    "classifier = Classifier(epochs=1000, lr=0.00002)\n",
    "classifier.train(train_docs)"
   ]
  },
  {
   "cell_type": "code",
   "execution_count": null,
   "metadata": {},
   "outputs": [],
   "source": [
    "#Посмотреть, что предсказывается для тестового html\n",
    "#classifier.predict(DocItem(0, 0, test_url , test_features))"
   ]
  },
  {
   "cell_type": "markdown",
   "metadata": {},
   "source": [
    "** Рисуем графики **"
   ]
  },
  {
   "cell_type": "code",
   "execution_count": 22,
   "metadata": {
    "scrolled": true
   },
   "outputs": [
    {
     "name": "stderr",
     "output_type": "stream",
     "text": [
      "20:45:46 INFO:Complete items 00000\n",
      "20:45:49 INFO:Complete items 01000\n",
      "20:45:51 INFO:Complete items 02000\n",
      "20:45:53 INFO:Complete items 03000\n",
      "20:45:56 INFO:Complete items 04000\n",
      "20:45:58 INFO:Complete items 05000\n",
      "20:46:00 INFO:Complete items 06000\n",
      "20:46:02 INFO:Complete items 07000\n"
     ]
    },
    {
     "name": "stdout",
     "output_type": "stream",
     "text": [
      "threshold 0\n",
      "\tclass_prec 0.5833333333333334, class_recall 1.0, class_F1 0.7368421052631579\n",
      "\tnot_class_prec 0.0, not_class_recall 0.0, not_class_F1 0.0\n",
      "\t\tMacroF1Mesure 0.3684210526315789\n",
      "threshold 0.01\n",
      "\tclass_prec 0.719187675070028, class_recall 0.9997566317838891, class_F1 0.8365746868954282\n",
      "\tnot_class_prec 0.9992492492492493, not_class_recall 0.4534923339011925, not_class_F1 0.6238575111319428\n",
      "\t\tMacroF1Mesure 0.7302160990136854\n",
      "threshold 0.02\n",
      "\tclass_prec 0.7504567044208988, class_recall 0.9997566317838891, class_F1 0.8573515600542628\n",
      "\tnot_class_prec 0.9993630573248408, not_class_recall 0.5345826235093697, not_class_F1 0.6965593784683686\n",
      "\t\tMacroF1Mesure 0.7769554692613156\n",
      "threshold 0.03\n",
      "\tclass_prec 0.7675635276532138, class_recall 0.9997566317838891, class_F1 0.8684071451220802\n",
      "\tnot_class_prec 0.9994089834515366, not_class_recall 0.5761499148211243, not_class_F1 0.7309271666306463\n",
      "\t\tMacroF1Mesure 0.7996671558763633\n",
      "threshold 0.04\n",
      "\tclass_prec 0.7808401444592283, class_recall 0.9997566317838891, class_F1 0.8768409818569904\n",
      "\tnot_class_prec 0.9994391475042064, not_class_recall 0.6071550255536627, not_class_F1 0.7554048325561679\n",
      "\t\tMacroF1Mesure 0.8161229072065792\n",
      "threshold 0.05\n",
      "\tclass_prec 0.7910246533127889, class_recall 0.999513263567778, class_F1 0.8831308461455757\n",
      "\tnot_class_prec 0.9989200863930886, not_class_recall 0.6303236797274276, not_class_F1 0.7729266764152916\n",
      "\t\tMacroF1Mesure 0.8280287612804336\n",
      "threshold 0.060000000000000005\n",
      "\tclass_prec 0.8008582016773942, class_recall 0.9992698953516671, class_F1 0.8891294932871374\n",
      "\tnot_class_prec 0.9984350547730829, not_class_recall 0.652129471890971, not_class_F1 0.7889530090684255\n",
      "\t\tMacroF1Mesure 0.8390412511777814\n",
      "threshold 0.07\n",
      "\tclass_prec 0.8093830080820028, class_recall 0.9992698953516671, class_F1 0.8943585275539098\n",
      "\tnot_class_prec 0.9984779299847792, not_class_recall 0.6705281090289609, not_class_F1 0.8022829188748472\n",
      "\t\tMacroF1Mesure 0.8483207232143785\n",
      "threshold 0.08\n",
      "\tclass_prec 0.8172770700636943, class_recall 0.9992698953516671, class_F1 0.8991569035366254\n",
      "\tnot_class_prec 0.9985148514851485, not_class_recall 0.6872231686541738, not_class_F1 0.8141271442986882\n",
      "\t\tMacroF1Mesure 0.8566420239176568\n",
      "threshold 0.09\n",
      "\tclass_prec 0.8241317004617547, class_recall 0.9990265271355561, class_F1 0.9031903190319033\n",
      "\tnot_class_prec 0.998061076102763, not_class_recall 0.7015332197614992, not_class_F1 0.8239295718287314\n",
      "\t\tMacroF1Mesure 0.8635599454303173\n",
      "threshold 0.09999999999999999\n",
      "\tclass_prec 0.8292929292929293, class_recall 0.9990265271355561, class_F1 0.9062810464731207\n",
      "\tnot_class_prec 0.9980897803247374, not_class_recall 0.7120954003407155, not_class_F1 0.8311791608669716\n",
      "\t\tMacroF1Mesure 0.8687301036700461\n",
      "threshold 0.10999999999999999\n",
      "\tclass_prec 0.833130328867235, class_recall 0.9987831589194451, class_F1 0.9084670724958495\n",
      "\tnot_class_prec 0.997639282341832, not_class_recall 0.7199318568994889, not_class_F1 0.8363348505838116\n",
      "\t\tMacroF1Mesure 0.8724009615398305\n",
      "threshold 0.11999999999999998\n",
      "\tclass_prec 0.8366972477064221, class_recall 0.9987831589194451, class_F1 0.9105835367206568\n",
      "\tnot_class_prec 0.9976624590930341, not_class_recall 0.7270868824531517, not_class_F1 0.8411509657075287\n",
      "\t\tMacroF1Mesure 0.8758672512140928\n",
      "threshold 0.12999999999999998\n",
      "\tclass_prec 0.8405737704918033, class_recall 0.9982964224872232, class_F1 0.9126710423851374\n",
      "\tnot_class_prec 0.9967652495378928, not_class_recall 0.7349233390119251, not_class_F1 0.8460482447538733\n",
      "\t\tMacroF1Mesure 0.8793596435695054\n",
      "threshold 0.13999999999999999\n",
      "\tclass_prec 0.8441745574310415, class_recall 0.9980530542711122, class_F1 0.9146871863499499\n",
      "\tnot_class_prec 0.9963403476669717, not_class_recall 0.7420783645655877, not_class_F1 0.850615114235501\n",
      "\t\tMacroF1Mesure 0.8826511502927255\n",
      "threshold 0.15\n",
      "\tclass_prec 0.846900826446281, class_recall 0.9975663178388903, class_F1 0.9160800089395463\n",
      "\tnot_class_prec 0.9954627949183303, not_class_recall 0.7475298126064736, not_class_F1 0.8538626191866122\n",
      "\t\tMacroF1Mesure 0.8849713140630793\n",
      "threshold 0.16\n",
      "\tclass_prec 0.8493264248704663, class_recall 0.9973229496227792, class_F1 0.9173942243116184\n",
      "\tnot_class_prec 0.9950428120775124, not_class_recall 0.7522998296422487, not_class_F1 0.8568102444703144\n",
      "\t\tMacroF1Mesure 0.8871022343909665\n",
      "threshold 0.17\n",
      "\tclass_prec 0.8522987310172665, class_recall 0.9970795814066683, class_F1 0.9190219829519963\n",
      "\tnot_class_prec 0.9946356727760394, not_class_recall 0.75809199318569, not_class_F1 0.8604021655065738\n",
      "\t\tMacroF1Mesure 0.889712074229285\n",
      "threshold 0.18000000000000002\n",
      "\tclass_prec 0.8546099290780141, class_recall 0.9970795814066683, class_F1 0.920363922273391\n",
      "\tnot_class_prec 0.9946666666666667, not_class_recall 0.7625212947189097, not_class_F1 0.8632594021215043\n",
      "\t\tMacroF1Mesure 0.8918116621974477\n",
      "threshold 0.19000000000000003\n",
      "\tclass_prec 0.8583403185247276, class_recall 0.9968362131905573, class_F1 0.922418646548812\n",
      "\tnot_class_prec 0.9942781690140845, not_class_recall 0.7696763202725724, not_class_F1 0.8676781256001536\n",
      "\t\tMacroF1Mesure 0.8950483860744828\n",
      "threshold 0.20000000000000004\n",
      "\tclass_prec 0.8610176619007569, class_recall 0.9965928449744463, class_F1 0.9238578680203045\n",
      "\tnot_class_prec 0.9938811188811189, not_class_recall 0.7747870528109029, not_class_F1 0.870763928776565\n",
      "\t\tMacroF1Mesure 0.8973108983984348\n",
      "threshold 0.21000000000000005\n",
      "\tclass_prec 0.8628029504741833, class_recall 0.9963494767583354, class_F1 0.9247797605601988\n",
      "\tnot_class_prec 0.9934754240974336, not_class_recall 0.7781942078364565, not_class_F1 0.872755063049293\n",
      "\t\tMacroF1Mesure 0.898767411804746\n",
      "threshold 0.22000000000000006\n",
      "\tclass_prec 0.8659052453468697, class_recall 0.9963494767583354, class_F1 0.9265587869186377\n",
      "\tnot_class_prec 0.9935233160621761, not_class_recall 0.7839863713798978, not_class_F1 0.8764044943820224\n",
      "\t\tMacroF1Mesure 0.9014816406503301\n",
      "threshold 0.23000000000000007\n",
      "\tclass_prec 0.8682926829268293, class_recall 0.9963494767583354, class_F1 0.9279238440616501\n",
      "\tnot_class_prec 0.9935594675826535, not_class_recall 0.7884156729131175, not_class_F1 0.8791793313069908\n",
      "\t\tMacroF1Mesure 0.9035515876843204\n",
      "threshold 0.24000000000000007\n",
      "\tclass_prec 0.8695836873406967, class_recall 0.9963494767583354, class_F1 0.9286605421345128\n",
      "\tnot_class_prec 0.9935787671232876, not_class_recall 0.7908006814310051, not_class_F1 0.8806678049705938\n",
      "\t\tMacroF1Mesure 0.9046641735525534\n",
      "threshold 0.25000000000000006\n",
      "\tclass_prec 0.8717784877529287, class_recall 0.9961061085422244, class_F1 0.9298046342571559\n",
      "\tnot_class_prec 0.9931885908897403, not_class_recall 0.7948892674616695, not_class_F1 0.8830431491294474\n",
      "\t\tMacroF1Mesure 0.9064238916933016\n",
      "threshold 0.26000000000000006\n",
      "\tclass_prec 0.8732664817580542, class_recall 0.9961061085422244, class_F1 0.930650295588904\n",
      "\tnot_class_prec 0.9932117098005939, not_class_recall 0.7976149914821125, not_class_F1 0.8847316704459561\n",
      "\t\tMacroF1Mesure 0.90769098301743\n",
      "threshold 0.2700000000000001\n",
      "\tclass_prec 0.8756421232876712, class_recall 0.9956193721100024, class_F1 0.9317845347910261\n",
      "\tnot_class_prec 0.9924114671163575, not_class_recall 0.8020442930153322, not_class_F1 0.8871302053891088\n",
      "\t\tMacroF1Mesure 0.9094573700900674\n",
      "threshold 0.2800000000000001\n",
      "\tclass_prec 0.8769560557341908, class_recall 0.9956193721100024, class_F1 0.9325279234100752\n",
      "\tnot_class_prec 0.9924337957124842, not_class_recall 0.8044293015332198, not_class_F1 0.8885961610839292\n",
      "\t\tMacroF1Mesure 0.9105620422470022\n",
      "threshold 0.2900000000000001\n",
      "\tclass_prec 0.879217709004943, class_recall 0.9956193721100024, class_F1 0.9338050673362246\n",
      "\tnot_class_prec 0.9924717691342535, not_class_recall 0.8085178875638842, not_class_F1 0.8911002628614346\n",
      "\t\tMacroF1Mesure 0.9124526650988296\n",
      "threshold 0.3000000000000001\n",
      "\tclass_prec 0.8820612332902112, class_recall 0.9956193721100024, class_F1 0.9354064250600205\n",
      "\tnot_class_prec 0.9925187032418953, not_class_recall 0.8136286201022147, not_class_F1 0.8942145665605693\n",
      "\t\tMacroF1Mesure 0.9148104958102949\n",
      "threshold 0.3100000000000001\n",
      "\tclass_prec 0.8847318339100346, class_recall 0.9956193721100024, class_F1 0.9369059887781975\n",
      "\tnot_class_prec 0.9925619834710744, not_class_recall 0.8183986371379898, not_class_F1 0.8971055088702147\n",
      "\t\tMacroF1Mesure 0.917005748824206\n",
      "threshold 0.3200000000000001\n",
      "\tclass_prec 0.8866247561239974, class_recall 0.9953760038938915, class_F1 0.9378582893831691\n",
      "\tnot_class_prec 0.9921842863019333, not_class_recall 0.8218057921635434, not_class_F1 0.8989936638091688\n",
      "\t\tMacroF1Mesure 0.9184259765961689\n",
      "threshold 0.3300000000000001\n",
      "\tclass_prec 0.8885509450358462, class_recall 0.9953760038938915, class_F1 0.9389348025711662\n",
      "\tnot_class_prec 0.9922163047931176, not_class_recall 0.8252129471890971, not_class_F1 0.9010416666666665\n",
      "\t\tMacroF1Mesure 0.9199882346189163\n",
      "threshold 0.34000000000000014\n",
      "\tclass_prec 0.889686684073107, class_recall 0.9951326356777804, class_F1 0.9394600804135554\n",
      "\tnot_class_prec 0.9918300653594772, not_class_recall 0.8272572402044293, not_class_F1 0.9020992011889282\n",
      "\t\tMacroF1Mesure 0.9207796408012419\n",
      "threshold 0.35000000000000014\n",
      "\tclass_prec 0.8916266899258614, class_recall 0.9951326356777804, class_F1 0.9405405405405405\n",
      "\tnot_class_prec 0.9918633034987795, not_class_recall 0.8306643952299829, not_class_F1 0.9041349898015947\n",
      "\t\tMacroF1Mesure 0.9223377651710676\n",
      "threshold 0.36000000000000015\n",
      "\tclass_prec 0.8925764192139738, class_recall 0.9948892674616695, class_F1 0.940959834273219\n",
      "\tnot_class_prec 0.9914772727272727, not_class_recall 0.8323679727427598, not_class_F1 0.9049824041489164\n",
      "\t\tMacroF1Mesure 0.9229711192110677\n"
     ]
    },
    {
     "name": "stdout",
     "output_type": "stream",
     "text": [
      "threshold 0.37000000000000016\n",
      "\tclass_prec 0.895117144733961, class_recall 0.9948892674616695, class_F1 0.9423697556477639\n",
      "\tnot_class_prec 0.991522002422285, not_class_recall 0.8367972742759796, not_class_F1 0.9076127124907613\n",
      "\t\tMacroF1Mesure 0.9249912340692625\n",
      "threshold 0.38000000000000017\n",
      "\tclass_prec 0.896687870146962, class_recall 0.9948892674616695, class_F1 0.9432395016151361\n",
      "\tnot_class_prec 0.9915492957746479, not_class_recall 0.8395229982964225, not_class_F1 0.9092250922509225\n",
      "\t\tMacroF1Mesure 0.9262322969330293\n",
      "threshold 0.3900000000000002\n",
      "\tclass_prec 0.8982193888766762, class_recall 0.9944025310294475, class_F1 0.9438669438669438\n",
      "\tnot_class_prec 0.9907815631262525, not_class_recall 0.8422487223168654, not_class_F1 0.9104972375690609\n",
      "\t\tMacroF1Mesure 0.9271820907180024\n",
      "threshold 0.4000000000000002\n",
      "\tclass_prec 0.8995594713656387, class_recall 0.9939157945972256, class_F1 0.9443866342929819\n",
      "\tnot_class_prec 0.9900159744408946, not_class_recall 0.844633730834753, not_class_F1 0.9115646258503403\n",
      "\t\tMacroF1Mesure 0.9279756300716611\n",
      "threshold 0.4100000000000002\n",
      "\tclass_prec 0.9017009056770489, class_recall 0.9934290581650036, class_F1 0.9453450671607225\n",
      "\tnot_class_prec 0.9892729439809297, not_class_recall 0.848381601362862, not_class_F1 0.9134262655906089\n",
      "\t\tMacroF1Mesure 0.9293856663756657\n",
      "threshold 0.4200000000000002\n",
      "\tclass_prec 0.9028761061946903, class_recall 0.9931856899488927, class_F1 0.9458801715146599\n",
      "\tnot_class_prec 0.9889064976228209, not_class_recall 0.8504258943781942, not_class_F1 0.9144531965561459\n",
      "\t\tMacroF1Mesure 0.9301666840354028\n",
      "threshold 0.4300000000000002\n",
      "\tclass_prec 0.90447695035461, class_recall 0.9931856899488927, class_F1 0.9467579167149983\n",
      "\tnot_class_prec 0.9889415481832543, not_class_recall 0.8531516183986372, not_class_F1 0.9160417047740992\n",
      "\t\tMacroF1Mesure 0.9313998107445487\n",
      "threshold 0.4400000000000002\n",
      "\tclass_prec 0.9064860062194581, class_recall 0.9931856899488927, class_F1 0.9478573917082802\n",
      "\tnot_class_prec 0.988985051140834, not_class_recall 0.8565587734241908, not_class_F1 0.9180208143144057\n",
      "\t\tMacroF1Mesure 0.932939103011343\n",
      "threshold 0.45000000000000023\n",
      "\tclass_prec 0.9084632516703787, class_recall 0.9926989535166707, class_F1 0.9487149668566113\n",
      "\tnot_class_prec 0.9882537196554424, not_class_recall 0.8599659284497445, not_class_F1 0.9196574968118054\n",
      "\t\tMacroF1Mesure 0.9341862318342083\n",
      "threshold 0.46000000000000024\n",
      "\tclass_prec 0.9108977221974096, class_recall 0.9926989535166707, class_F1 0.9500407592872948\n",
      "\tnot_class_prec 0.9883086515978177, not_class_recall 0.8640545144804088, not_class_F1 0.9220141792401381\n",
      "\t\tMacroF1Mesure 0.9360274692637165\n",
      "threshold 0.47000000000000025\n",
      "\tclass_prec 0.9125279642058165, class_recall 0.9926989535166707, class_F1 0.9509266814314022\n",
      "\tnot_class_prec 0.9883449883449883, not_class_recall 0.8667802385008518, not_class_F1 0.9235795970230533\n",
      "\t\tMacroF1Mesure 0.9372531392272277\n",
      "threshold 0.48000000000000026\n",
      "\tclass_prec 0.9147599820547331, class_recall 0.9924555853005598, class_F1 0.9520252130267305\n",
      "\tnot_class_prec 0.9880123743232792, not_class_recall 0.8705281090289608, not_class_F1 0.9255569643180582\n",
      "\t\tMacroF1Mesure 0.9387910886723944\n",
      "threshold 0.49000000000000027\n",
      "\tclass_prec 0.91681654676259, class_recall 0.9924555853005598, class_F1 0.9531377819329204\n",
      "\tnot_class_prec 0.9880585516178737, not_class_recall 0.8739352640545145, not_class_F1 0.9274995480021696\n",
      "\t\tMacroF1Mesure 0.940318664967545\n",
      "threshold 0.5000000000000002\n",
      "\tclass_prec 0.9198645598194131, class_recall 0.9917254806522268, class_F1 0.9544443143225202\n",
      "\tnot_class_prec 0.9869931140015302, not_class_recall 0.879045996592845, not_class_F1 0.929897278788971\n",
      "\t\tMacroF1Mesure 0.9421707965557455\n",
      "threshold 0.5100000000000002\n",
      "\tclass_prec 0.9219457013574661, class_recall 0.9917254806522268, class_F1 0.9555633720248563\n",
      "\tnot_class_prec 0.9870426829268293, not_class_recall 0.8824531516183987, not_class_F1 0.9318222701924807\n",
      "\t\tMacroF1Mesure 0.9436928211086685\n",
      "threshold 0.5200000000000002\n",
      "\tclass_prec 0.9244555353901996, class_recall 0.9917254806522268, class_F1 0.9569097099917812\n",
      "\tnot_class_prec 0.9871016691957512, not_class_recall 0.8865417376490631, not_class_F1 0.9341231376772572\n",
      "\t\tMacroF1Mesure 0.9455164238345192\n",
      "threshold 0.5300000000000002\n",
      "\tclass_prec 0.9252951861943688, class_recall 0.9917254806522268, class_F1 0.9573593327851521\n",
      "\tnot_class_prec 0.9871212121212121, not_class_recall 0.8879045996592845, not_class_F1 0.9348878923766817\n",
      "\t\tMacroF1Mesure 0.9461236125809169\n",
      "threshold 0.5400000000000003\n",
      "\tclass_prec 0.9269790718835305, class_recall 0.9917254806522268, class_F1 0.958259847148736\n",
      "\tnot_class_prec 0.9871601208459214, not_class_recall 0.8906303236797274, not_class_F1 0.9364141142754792\n",
      "\t\tMacroF1Mesure 0.9473369807121076\n",
      "threshold 0.5500000000000003\n",
      "\tclass_prec 0.9290763968072976, class_recall 0.9914821124361158, class_F1 0.959265363786202\n",
      "\tnot_class_prec 0.9868371568258744, not_class_recall 0.894037478705281, not_class_F1 0.9381480157311405\n",
      "\t\tMacroF1Mesure 0.9487066897586712\n",
      "threshold 0.5600000000000003\n",
      "\tclass_prec 0.9320366132723112, class_recall 0.9912387442200049, class_F1 0.9607265007665999\n",
      "\tnot_class_prec 0.9865370231862378, not_class_recall 0.8988074957410562, not_class_F1 0.9406311285434125\n",
      "\t\tMacroF1Mesure 0.9506788146550063\n",
      "threshold 0.5700000000000003\n",
      "\tclass_prec 0.9341743119266055, class_recall 0.9912387442200049, class_F1 0.9618609044751447\n",
      "\tnot_class_prec 0.9865871833084948, not_class_recall 0.9022146507666099, not_class_F1 0.9425164620039154\n",
      "\t\tMacroF1Mesure 0.9521886832395301\n",
      "threshold 0.5800000000000003\n",
      "\tclass_prec 0.9356765449115553, class_recall 0.9912387442200049, class_F1 0.9626565823682345\n",
      "\tnot_class_prec 0.9866220735785953, not_class_recall 0.9045996592844975, not_class_F1 0.9438322076075365\n",
      "\t\tMacroF1Mesure 0.9532443949878855\n",
      "threshold 0.5900000000000003\n",
      "\tclass_prec 0.9360919540229885, class_recall 0.9909953760038939, class_F1 0.962761555739449\n",
      "\tnot_class_prec 0.9862657757980697, not_class_recall 0.9052810902896081, not_class_F1 0.9440397939243204\n",
      "\t\tMacroF1Mesure 0.9534006748318846\n",
      "threshold 0.6000000000000003\n",
      "\tclass_prec 0.9371546961325967, class_recall 0.9907520077877829, class_F1 0.963208328404117\n",
      "\tnot_class_prec 0.9859259259259259, not_class_recall 0.906984667802385, not_class_F1 0.9448092280390417\n",
      "\t\tMacroF1Mesure 0.9540087782215794\n",
      "threshold 0.6100000000000003\n",
      "\tclass_prec 0.9384367074014296, class_recall 0.9905086395716719, class_F1 0.9637698318730761\n",
      "\tnot_class_prec 0.9855929072774289, not_class_recall 0.9090289608177172, not_class_F1 0.945763913505849\n",
      "\t\tMacroF1Mesure 0.9547668726894625\n",
      "threshold 0.6200000000000003\n",
      "\tclass_prec 0.9388414493422571, class_recall 0.9900219031394499, class_F1 0.9637526652452025\n",
      "\tnot_class_prec 0.984876429361859, not_class_recall 0.909710391822828, not_class_F1 0.9458023379383634\n",
      "\t\tMacroF1Mesure 0.954777501591783\n",
      "threshold 0.6300000000000003\n",
      "\tclass_prec 0.9397089397089398, class_recall 0.9900219031394499, class_F1 0.9642095283242476\n",
      "\tnot_class_prec 0.9848987108655617, not_class_recall 0.9110732538330494, not_class_F1 0.9465486725663717\n",
      "\t\tMacroF1Mesure 0.9553791004453096\n",
      "threshold 0.6400000000000003\n",
      "\tclass_prec 0.9405367885238316, class_recall 0.989291798491117, class_F1 0.9642984224884354\n",
      "\tnot_class_prec 0.9838354151359294, not_class_recall 0.9124361158432709, not_class_F1 0.9467915856461022\n",
      "\t\tMacroF1Mesure 0.9555450040672688\n",
      "threshold 0.6500000000000004\n",
      "\tclass_prec 0.9431554524361949, class_recall 0.989291798491117, class_F1 0.9656728827651739\n",
      "\tnot_class_prec 0.9839063643013899, not_class_recall 0.9165247018739353, not_class_F1 0.9490209913565003\n",
      "\t\tMacroF1Mesure 0.9573469370608372\n",
      "threshold 0.6600000000000004\n",
      "\tclass_prec 0.943321718931475, class_recall 0.9883183256266732, class_F1 0.9652959353458522\n",
      "\tnot_class_prec 0.9824753559693319, not_class_recall 0.9168654173764906, not_class_F1 0.9485371871695453\n",
      "\t\tMacroF1Mesure 0.9569165612576988\n",
      "threshold 0.6700000000000004\n",
      "\tclass_prec 0.9441860465116279, class_recall 0.9880749574105622, class_F1 0.9656320608871447\n",
      "\tnot_class_prec 0.9821428571428571, not_class_recall 0.9182282793867121, not_class_F1 0.9491107589364325\n",
      "\t\tMacroF1Mesure 0.9573714099117886\n",
      "threshold 0.6800000000000004\n",
      "\tclass_prec 0.9448324022346368, class_recall 0.9878315891944512, class_F1 0.9658536585365854\n",
      "\tnot_class_prec 0.9818049490538574, not_class_recall 0.9192504258943782, not_class_F1 0.9494985043111034\n",
      "\t\tMacroF1Mesure 0.9576760814238444\n",
      "threshold 0.6900000000000004\n",
      "\tclass_prec 0.945479962721342, class_recall 0.9875882209783402, class_F1 0.966075467206285\n",
      "\tnot_class_prec 0.981468023255814, not_class_recall 0.9202725724020443, not_class_F1 0.9498857042377351\n",
      "\t\tMacroF1Mesure 0.9579805857220101\n",
      "threshold 0.7000000000000004\n",
      "\tclass_prec 0.9467414155571128, class_recall 0.9863713798977853, class_F1 0.966150178784267\n",
      "\tnot_class_prec 0.9797321751719146, not_class_recall 0.9223168654173765, not_class_F1 0.9501579501579502\n",
      "\t\tMacroF1Mesure 0.9581540644711086\n",
      "threshold 0.7100000000000004\n",
      "\tclass_prec 0.9493908153701968, class_recall 0.9861280116816744, class_F1 0.9674107675778919\n",
      "\tnot_class_prec 0.9794668587896254, not_class_recall 0.9264054514480409, not_class_F1 0.9521975135703029\n",
      "\t\tMacroF1Mesure 0.9598041405740974\n",
      "threshold 0.7200000000000004\n",
      "\tclass_prec 0.9507042253521126, class_recall 0.9856412752494524, class_F1 0.9678575696021029\n",
      "\tnot_class_prec 0.9788074712643678, not_class_recall 0.9284497444633731, not_class_F1 0.9529638048609897\n",
      "\t\tMacroF1Mesure 0.9604106872315463\n",
      "threshold 0.7300000000000004\n",
      "\tclass_prec 0.9522577610536218, class_recall 0.9853979070333414, class_F1 0.9685444324841527\n",
      "\tnot_class_prec 0.9785100286532952, not_class_recall 0.9308347529812606, not_class_F1 0.9540771782783307\n",
      "\t\tMacroF1Mesure 0.9613108053812417\n"
     ]
    },
    {
     "name": "stdout",
     "output_type": "stream",
     "text": [
      "threshold 0.7400000000000004\n",
      "\tclass_prec 0.9538280329799764, class_recall 0.9853979070333414, class_F1 0.9693559971271247\n",
      "\tnot_class_prec 0.9785637727759914, not_class_recall 0.9332197614991482, not_class_F1 0.9553540286013255\n",
      "\t\tMacroF1Mesure 0.9623550128642251\n",
      "threshold 0.7500000000000004\n",
      "\tclass_prec 0.9558337269721304, class_recall 0.9849111706011195, class_F1 0.9701546206400576\n",
      "\tnot_class_prec 0.9779359430604982, not_class_recall 0.9362862010221465, not_class_F1 0.9566579634464752\n",
      "\t\tMacroF1Mesure 0.9634062920432664\n",
      "threshold 0.7600000000000005\n",
      "\tclass_prec 0.9567273587136439, class_recall 0.9846678023850085, class_F1 0.9704965219477093\n",
      "\tnot_class_prec 0.977619893428064, not_class_recall 0.937649063032368, not_class_F1 0.9572173913043478\n",
      "\t\tMacroF1Mesure 0.9638569566260285\n",
      "threshold 0.7700000000000005\n",
      "\tclass_prec 0.9585406301824212, class_recall 0.9846678023850085, class_F1 0.9714285714285714\n",
      "\tnot_class_prec 0.9776833156216791, not_class_recall 0.9403747870528109, not_class_F1 0.9586662035428968\n",
      "\t\tMacroF1Mesure 0.9650473874857342\n",
      "threshold 0.7800000000000005\n",
      "\tclass_prec 0.9594498458619872, class_recall 0.9846678023850085, class_F1 0.9718952678356955\n",
      "\tnot_class_prec 0.9777148921117793, not_class_recall 0.9417376490630324, not_class_F1 0.9593891010065949\n",
      "\t\tMacroF1Mesure 0.9656421844211451\n",
      "threshold 0.7900000000000005\n",
      "\tclass_prec 0.9605513307984791, class_recall 0.9836943295205646, class_F1 0.9719850907779247\n",
      "\tnot_class_prec 0.9763751763046544, not_class_recall 0.9434412265758092, not_class_F1 0.9596257147808005\n",
      "\t\tMacroF1Mesure 0.9658054027793626\n",
      "threshold 0.8000000000000005\n",
      "\tclass_prec 0.9612181774922675, class_recall 0.9832075930883427, class_F1 0.9720885466794995\n",
      "\tnot_class_prec 0.9757127771911299, not_class_recall 0.9444633730834753, not_class_F1 0.9598337950138504\n",
      "\t\tMacroF1Mesure 0.9659611708466749\n",
      "threshold 0.8100000000000005\n",
      "\tclass_prec 0.9627862595419847, class_recall 0.9822341202238988, class_F1 0.9724129622936994\n",
      "\tnot_class_prec 0.9744039270687237, not_class_recall 0.9468483816013629, not_class_F1 0.9604285467426992\n",
      "\t\tMacroF1Mesure 0.9664207545181993\n",
      "threshold 0.8200000000000005\n",
      "\tclass_prec 0.9643966547192354, class_recall 0.9822341202238988, class_F1 0.9732336628888354\n",
      "\tnot_class_prec 0.9744665967121371, not_class_recall 0.9492333901192505, not_class_F1 0.9616845012081464\n",
      "\t\tMacroF1Mesure 0.967459082048491\n",
      "threshold 0.8300000000000005\n",
      "\tclass_prec 0.9652943992340833, class_recall 0.9815040155755659, class_F1 0.9733317243875952\n",
      "\tnot_class_prec 0.9734822051639916, not_class_recall 0.9505962521294719, not_class_F1 0.9619031201516979\n",
      "\t\tMacroF1Mesure 0.9676174222696465\n",
      "threshold 0.8400000000000005\n",
      "\tclass_prec 0.9664349076959962, class_recall 0.9810172791433439, class_F1 0.973671497584541\n",
      "\tnot_class_prec 0.9728506787330317, not_class_recall 0.9522998296422487, not_class_F1 0.9624655647382919\n",
      "\t\tMacroF1Mesure 0.9680685311614164\n",
      "threshold 0.8500000000000005\n",
      "\tclass_prec 0.9675636713118693, class_recall 0.9800438062789, class_F1 0.9737637528714786\n",
      "\tnot_class_prec 0.9715475364330326, not_class_recall 0.9540034071550255, not_class_F1 0.9626955475330926\n",
      "\t\tMacroF1Mesure 0.9682296502022856\n",
      "threshold 0.8600000000000005\n",
      "\tclass_prec 0.9682004336304505, class_recall 0.9780968605500122, class_F1 0.9731234866828088\n",
      "\tnot_class_prec 0.9688904251641894, not_class_recall 0.9550255536626917, not_class_F1 0.9619080301990391\n",
      "\t\tMacroF1Mesure 0.967515758440924\n",
      "threshold 0.8700000000000006\n",
      "\tclass_prec 0.9697994684706451, class_recall 0.9768800194694572, class_F1 0.9733268671193016\n",
      "\tnot_class_prec 0.9672977624784854, not_class_recall 0.9574105621805792, not_class_F1 0.9623287671232877\n",
      "\t\tMacroF1Mesure 0.9678278171212946\n",
      "threshold 0.8800000000000006\n",
      "\tclass_prec 0.9718992248062015, class_recall 0.9763932830372354, class_F1 0.9741410707781959\n",
      "\tnot_class_prec 0.9667352537722909, not_class_recall 0.9604770017035775, not_class_F1 0.9635959665014527\n",
      "\t\tMacroF1Mesure 0.9688685186398243\n",
      "threshold 0.8900000000000006\n",
      "\tclass_prec 0.9727891156462585, class_recall 0.9744463373083475, class_F1 0.9736170212765958\n",
      "\tnot_class_prec 0.9641393442622951, not_class_recall 0.9618398637137989, not_class_F1 0.9629882312809142\n",
      "\t\tMacroF1Mesure 0.968302626278755\n",
      "threshold 0.9000000000000006\n",
      "\tclass_prec 0.9736970287384316, class_recall 0.9729861280116817, class_F1 0.9733414485696895\n",
      "\tnot_class_prec 0.962219196732471, not_class_recall 0.9632027257240204, not_class_F1 0.9627107100289459\n",
      "\t\tMacroF1Mesure 0.9680260792993177\n",
      "threshold 0.9100000000000006\n",
      "\tclass_prec 0.9746155723700268, class_recall 0.9717692869311267, class_F1 0.9731903485254693\n",
      "\tnot_class_prec 0.9606379368849678, not_class_recall 0.964565587734242, not_class_F1 0.962597755865352\n",
      "\t\tMacroF1Mesure 0.9678940521954107\n",
      "threshold 0.9200000000000006\n",
      "\tclass_prec 0.9761670761670762, class_recall 0.9669019226089073, class_F1 0.9715124098300526\n",
      "\tnot_class_prec 0.9542703429724277, not_class_recall 0.9669505962521294, not_class_F1 0.960568624132679\n",
      "\t\tMacroF1Mesure 0.9660405169813657\n",
      "threshold 0.9300000000000006\n",
      "\tclass_prec 0.9782823297137216, class_recall 0.9647116086639085, class_F1 0.971449577257689\n",
      "\tnot_class_prec 0.9515374331550802, not_class_recall 0.9700170357751278, not_class_F1 0.9606883752319892\n",
      "\t\tMacroF1Mesure 0.9660689762448391\n",
      "threshold 0.9400000000000006\n",
      "\tclass_prec 0.9796878870448352, class_recall 0.9625212947189097, class_F1 0.9710287257549717\n",
      "\tnot_class_prec 0.9487861656135683, not_class_recall 0.9720613287904599, not_class_F1 0.9602827330865029\n",
      "\t\tMacroF1Mesure 0.9656557294207373\n",
      "threshold 0.9500000000000006\n",
      "\tclass_prec 0.9820359281437125, class_recall 0.9578972986128012, class_F1 0.9698164346433411\n",
      "\tnot_class_prec 0.9430171277997365, not_class_recall 0.9754684838160136, not_class_F1 0.958968347010551\n",
      "\t\tMacroF1Mesure 0.964392390826946\n",
      "threshold 0.9600000000000006\n",
      "\tclass_prec 0.9836601307189542, class_recall 0.9522998296422487, class_F1 0.9677259799678496\n",
      "\tnot_class_prec 0.9360730593607306, not_class_recall 0.9778534923339012, not_class_F1 0.956507248791868\n",
      "\t\tMacroF1Mesure 0.9621166143798587\n",
      "threshold 0.9700000000000006\n",
      "\tclass_prec 0.984779299847793, class_recall 0.9447554149428085, class_F1 0.964352254378338\n",
      "\tnot_class_prec 0.9268214055448099, not_class_recall 0.979557069846678, not_class_F1 0.9524598310419083\n",
      "\t\tMacroF1Mesure 0.9584060427101232\n",
      "threshold 0.9800000000000006\n",
      "\tclass_prec 0.9863858207038274, class_recall 0.9345339498661475, class_F1 0.9597600599850037\n",
      "\tnot_class_prec 0.9146302761028245, not_class_recall 0.9819420783645656, not_class_F1 0.9470916858363458\n",
      "\t\tMacroF1Mesure 0.9534258729106748\n",
      "threshold 0.9900000000000007\n",
      "\tclass_prec 0.9904153354632588, class_recall 0.9053297639328304, class_F1 0.9459631277813095\n",
      "\tnot_class_prec 0.8816909975669099, not_class_recall 0.9877342419080068, not_class_F1 0.9317049654507472\n",
      "\t\tMacroF1Mesure 0.9388340466160283\n"
     ]
    },
    {
     "data": {
      "image/png": "[encoded data removed]",
      "text/plain": [
       "<matplotlib.figure.Figure at 0x7efd2cb052b0>"
      ]
     },
     "metadata": {
      "needs_background": "light"
     },
     "output_type": "display_data"
    },
    {
     "data": {
      "image/png": "[encoded data removed]",
      "text/plain": [
       "<matplotlib.figure.Figure at 0x7efd2c9686a0>"
      ]
     },
     "metadata": {
      "needs_background": "light"
     },
     "output_type": "display_data"
    }
   ],
   "source": [
    "plot_results(train_docs, min_threshold=0, max_threshold=1, step=0.01, trace=1)"
   ]
  },
  {
   "cell_type": "code",
   "execution_count": 23,
   "metadata": {
    "scrolled": true
   },
   "outputs": [
    {
     "name": "stderr",
     "output_type": "stream",
     "text": [
      "20:47:03 INFO:Complete items 00000\n",
      "20:47:05 INFO:Complete items 01000\n",
      "20:47:08 INFO:Complete items 02000\n",
      "20:47:10 INFO:Complete items 03000\n",
      "20:47:13 INFO:Complete items 04000\n",
      "20:47:16 INFO:Complete items 05000\n",
      "20:47:19 INFO:Complete items 06000\n",
      "20:47:22 INFO:Complete items 07000\n",
      "20:47:25 INFO:Complete items 08000\n",
      "20:47:28 INFO:Complete items 09000\n",
      "20:47:31 INFO:Complete items 10000\n",
      "20:47:33 INFO:Complete items 11000\n",
      "20:47:36 INFO:Complete items 12000\n",
      "20:47:38 INFO:Complete items 13000\n",
      "20:47:41 INFO:Complete items 14000\n",
      "20:47:44 INFO:Complete items 15000\n",
      "20:47:46 INFO:Complete items 16000\n"
     ]
    }
   ],
   "source": [
    "threshold = 0.88\n",
    "\n",
    "with open('my_submission.csv', 'w') as fout:\n",
    "    writer = csv.writer(fout)\n",
    "    writer.writerow(['Id', 'Prediction'])\n",
    "    for item in classifier.predict_all(test_docs):\n",
    "        prediction =  1 if item[3] > threshold else 0\n",
    "        writer.writerow([item[0], prediction])"
   ]
  },
  {
   "cell_type": "code",
   "execution_count": null,
   "metadata": {},
   "outputs": [],
   "source": []
  }
 ],
 "metadata": {
  "anaconda-cloud": {},
  "kernelspec": {
   "display_name": "Python 3",
   "language": "python",
   "name": "python3"
  },
  "language_info": {
   "codemirror_mode": {
    "name": "ipython",
    "version": 3
   },
   "file_extension": ".py",
   "mimetype": "text/x-python",
   "name": "python",
   "nbconvert_exporter": "python",
   "pygments_lexer": "ipython3",
   "version": "3.6.6"
  }
 },
 "nbformat": 4,
 "nbformat_minor": 1
}
