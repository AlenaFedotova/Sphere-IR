{
 "cells": [
  {
   "cell_type": "markdown",
   "metadata": {},
   "source": [
    "# ** Описание **"
   ]
  },
  {
   "cell_type": "raw",
   "metadata": {},
   "source": [
    "Ссылка на соревнование:\n",
    "https://kaggle.com/join/antoporn_bayes\n",
    "Ссылка на данные:\n",
    "https://inclass.kaggle.com/c/antiporn-infopoisk/data\n",
    "\n",
    "Нужно набрать больше 0.89, чтобы получить +1 балл к следующему ДЗ\n",
    "и 0.9, чтобы получить +2 балла"
   ]
  },
  {
   "cell_type": "markdown",
   "metadata": {},
   "source": [
    "$$P(AB)=P(A|B)P(B)=P(B|A)P(A)$$\n",
    "$$P(A|B)=\\frac{P(B|A)P(A)}{P(B)}$$\n",
    "$$P(C|D)=\\frac{P(D|C)P(C)}{P(D)}=\\frac{P(x_1..x_n|C)P(C)}{P(D)}$$\n",
    "Наивность заключается в том, что мы считаем все слова(признаки) независимыми между собой\n",
    "$$P(x_1..x_n|C)=\\prod_{i}^{n}P(x_i|C)$$"
   ]
  },
  {
   "cell_type": "markdown",
   "metadata": {},
   "source": [
    "Соответственно тогда, вероятности того, что документ принадлежит каждому классу можно записат следующим образом"
   ]
  },
  {
   "cell_type": "markdown",
   "metadata": {},
   "source": [
    "$$P(C|D)=\\frac{\\prod_{i}^{n}P(x_i|C)P(C)}{P(D)}$$\n",
    "$$P(\\neg C|D)=\\frac{\\prod_{i}^{n}P(x_i|\\neg C)P(\\neg C)}{P(D)}$$"
   ]
  },
  {
   "cell_type": "markdown",
   "metadata": {},
   "source": [
    "Если поделить две эти вероятности, то мы сократим общие члены и упростим формулу"
   ]
  },
  {
   "cell_type": "markdown",
   "metadata": {},
   "source": [
    "$$\\frac{P(C|D)}{P(\\neg C|D)}=\\frac{\\prod_{i}^{n}P(x_i|C)P(C)}{\\prod_{i}^{n}P(x_i|\\neg C)P(\\neg C)}$$\n",
    "$$ln\\frac{P(C|D)}{P(\\neg C|D)}=ln\\frac{P(C)}{P(\\neg C)}+\\sum_{i}^{n}ln\\frac{P(x_i|C)}{P(x_i|\\neg C)}=$$\n",
    "$$ln\\frac{P(C)}{P(\\neg C)}+\\sum_{i}^{n}ln\\frac{classCfreqX_i}{classNotCfreqX_i}$$\n",
    "$$P(x_i|C)=classCfreqX_i/total$$\n",
    "$$P(x_i|\\neg C)=classNotCfreqX_i/total$$\n",
    "$$ln\\frac{P(C)}{P(\\neg C)} = const$$\n",
    "$$P(C|D) + P(\\neg C|D) = 1$$"
   ]
  },
  {
   "cell_type": "code",
   "execution_count": 1,
   "metadata": {},
   "outputs": [],
   "source": [
    "from __future__ import division\n",
    "\n",
    "import base64\n",
    "import csv\n",
    "import gzip\n",
    "import zlib\n",
    "import random\n",
    "\n",
    "from collections import namedtuple\n",
    "from collections import Counter\n",
    "\n",
    "%matplotlib inline\n",
    "import matplotlib.pyplot as plt"
   ]
  },
  {
   "cell_type": "code",
   "execution_count": 3,
   "metadata": {},
   "outputs": [],
   "source": [
    "TRACE_NUM = 500\n",
    "import logging\n",
    "from importlib import reload\n",
    "reload(logging)\n",
    "logging.basicConfig(format='%(asctime)s %(levelname)s:%(message)s', level=logging.INFO, datefmt='%H:%M:%S')\n",
    "\n",
    "def trace(items_num, trace_num=TRACE_NUM):\n",
    "    if items_num % trace_num == 0: logging.info(\"Complete items %05d\" % items_num)"
   ]
  },
  {
   "cell_type": "markdown",
   "metadata": {},
   "source": [
    "### Утилиты"
   ]
  },
  {
   "cell_type": "markdown",
   "metadata": {},
   "source": [
    "#### Декораторы"
   ]
  },
  {
   "cell_type": "code",
   "execution_count": 19,
   "metadata": {},
   "outputs": [],
   "source": [
    "def to_utf8(text):\n",
    "    if isinstance(text, str): text = text.encode('utf8')\n",
    "    return text\n",
    "\n",
    "def convert2unicode(f):\n",
    "    def tmp(text):\n",
    "        if not isinstance(text, str): text = text.decode('utf8')\n",
    "        return f(text)\n",
    "    return tmp\n",
    "\n",
    "def convert2lower(f):\n",
    "    def tmp(text):        \n",
    "        return f(text.lower())\n",
    "    return tmp\n",
    "\n",
    "#P.S. Декораторы могут усложнять отладку, так что от них вполне можно отказаться и воспользоваться copy-paste"
   ]
  },
  {
   "cell_type": "markdown",
   "metadata": {},
   "source": [
    "### Извлечение текста из html"
   ]
  },
  {
   "cell_type": "markdown",
   "metadata": {},
   "source": [
    "#### Извлечение текста при помощи встроенных модулей"
   ]
  },
  {
   "cell_type": "code",
   "execution_count": 20,
   "metadata": {},
   "outputs": [],
   "source": [
    "from html.parser import HTMLParser\n",
    "import re\n",
    "\n",
    "###Извлечение текста из title можно вписать сюда\n",
    "\n",
    "class TextHTMLParser(HTMLParser):\n",
    "    def __init__(self):\n",
    "        HTMLParser.__init__(self)\n",
    "        self._text = []\n",
    "        self._title = \"\"\n",
    "        self._in_title = False\n",
    "\n",
    "    def handle_data(self, data):\n",
    "        text = data.strip()\n",
    "        if len(text) > 0:\n",
    "            text = re.sub('[ \\t\\r\\n]+', ' ', text)\n",
    "            self._text.append(text + ' ')\n",
    "\n",
    "    def handle_starttag(self, tag, attrs):\n",
    "        if tag == 'p':\n",
    "            self._text.append('\\n\\n')\n",
    "        elif tag == 'br':\n",
    "            self._text.append('\\n')\n",
    "        elif tag == 'title':\n",
    "            self._in_title = True\n",
    "\n",
    "    def handle_startendtag(self, tag, attrs):\n",
    "        if tag == 'br':\n",
    "            self._text.append('\\n\\n')\n",
    "\n",
    "    def text(self):\n",
    "        return ''.join(self._text).strip()\n",
    "\n",
    "@convert2unicode\n",
    "def html2text_parser(text):\n",
    "    parser = TextHTMLParser()\n",
    "    parser.feed(text)\n",
    "    return parser.text()"
   ]
  },
  {
   "cell_type": "markdown",
   "metadata": {},
   "source": [
    "#### Извлечение текста при помощи дополнительных библиотек"
   ]
  },
  {
   "cell_type": "code",
   "execution_count": 21,
   "metadata": {},
   "outputs": [],
   "source": [
    "def html2text_bs(raw_html):\n",
    "    from bs4 import BeautifulSoup\n",
    "    \"\"\"\n",
    "    Тут производится извлечения из html текста\n",
    "    \"\"\"\n",
    "    soup = BeautifulSoup(raw_html, \"html.parser\")\n",
    "    [s.extract() for s in soup(['script', 'style'])]\n",
    "    return soup.get_text()\n",
    "\n",
    "def html2text_bs_visible(raw_html):\n",
    "    from bs4 import BeautifulSoup\n",
    "    \"\"\"\n",
    "    Тут производится извлечения из html текста, который видим пользователю\n",
    "    \"\"\"\n",
    "    soup = BeautifulSoup(raw_html, \"html.parser\")    \n",
    "    [s.extract() for s in soup(['style', 'script', '[document]', 'head', 'title'])]\n",
    "    return soup.get_text()\n",
    "\n",
    "def html2text_boilerpipe(raw_html):\n",
    "    import boilerpipe\n",
    "    \"\"\"\n",
    "    еще одна библиотека очень хорошо извлекающая именно видимый пользователю текст,\n",
    "    но она завязана на java\n",
    "    \"\"\"\n",
    "    pass"
   ]
  },
  {
   "cell_type": "markdown",
   "metadata": {},
   "source": [
    "#### Выбираем какой метод для конвертации html в текст будет основным"
   ]
  },
  {
   "cell_type": "code",
   "execution_count": 22,
   "metadata": {},
   "outputs": [],
   "source": [
    "#html2text = html2text_bs\n",
    "html2text = html2text_parser"
   ]
  },
  {
   "cell_type": "markdown",
   "metadata": {},
   "source": [
    "#### Методы для токенизации текста"
   ]
  },
  {
   "cell_type": "code",
   "execution_count": 27,
   "metadata": {},
   "outputs": [],
   "source": [
    "@convert2lower\n",
    "@convert2unicode\n",
    "def easy_tokenizer(text):\n",
    "    word = str()\n",
    "    for symbol in text:\n",
    "        if symbol.isalnum(): word += symbol\n",
    "        elif word:\n",
    "            yield word\n",
    "            word = str()\n",
    "    if word: yield word\n",
    "\n",
    "PYMORPHY_CACHE = {}\n",
    "MORPH = None\n",
    "#hint, чтобы установка pymorphy2 не была бы обязательной\n",
    "def get_lemmatizer():\n",
    "    import pymorphy2\n",
    "    global MORPH\n",
    "    if MORPH is None: MORPH = pymorphy2.MorphAnalyzer()\n",
    "    return MORPH\n",
    "\n",
    "@convert2lower\n",
    "@convert2unicode\n",
    "def pymorphy_tokenizer(text):\n",
    "    global PYMORPHY_CACHE\n",
    "    for word in easy_tokenizer(text):\n",
    "        word_hash = hash(word)\n",
    "        if word_hash not in PYMORPHY_CACHE:\n",
    "            PYMORPHY_CACHE[word_hash] = get_lemmatizer().parse(word)[0].normal_form            \n",
    "        yield PYMORPHY_CACHE[word_hash]"
   ]
  },
  {
   "cell_type": "markdown",
   "metadata": {},
   "source": [
    "#### Основная функция, которая вызывается для преобразования html в список слов"
   ]
  },
  {
   "cell_type": "code",
   "execution_count": 28,
   "metadata": {},
   "outputs": [],
   "source": [
    "def html2word(raw_html, to_text=html2text, tokenizer=easy_tokenizer):\n",
    "    return tokenizer(to_text(raw_html).lower())"
   ]
  },
  {
   "cell_type": "markdown",
   "metadata": {},
   "source": [
    "#### Рассчет финальных метрик"
   ]
  },
  {
   "cell_type": "code",
   "execution_count": 29,
   "metadata": {},
   "outputs": [],
   "source": [
    "def safe_divide(a, b):\n",
    "    if a == 0: return 0.0\n",
    "    elif b == 0: return 0.0\n",
    "    else: return a/b\n",
    "\n",
    "def calculate_metrics(predictions, threshold):    \n",
    "    \"\"\"\n",
    "    Функция подсчета метрик\n",
    "    Параметры\n",
    "    predictions - ранки по документам\n",
    "    threshold  - порог для метрик\n",
    "    \"\"\"\n",
    "    true_positive = 0\n",
    "    false_positive = 0\n",
    "    true_negative = 0\n",
    "    false_negative = 0\n",
    "    for (url_id, mark, url, prediction) in predictions:        \n",
    "        mark_predict = prediction > threshold\n",
    "\n",
    "        if mark_predict:                     \n",
    "            if mark_predict == mark: true_positive += 1\n",
    "            else: false_positive += 1                    \n",
    "        else:                     \n",
    "            if  mark_predict == mark: true_negative += 1\n",
    "            else: false_negative += 1\n",
    "\n",
    "    class_prec  = safe_divide(true_positive, true_positive + false_positive)\n",
    "    class_recall = safe_divide(true_positive, true_positive + false_negative)\n",
    "        \n",
    "    class_F1 = safe_divide(2 * class_prec * class_recall, class_prec + class_recall)\n",
    "    \n",
    "    \n",
    "    not_class_prec = safe_divide(true_negative, true_negative + false_negative)\n",
    "    not_class_recall = safe_divide(true_negative, true_negative + false_positive)\n",
    "    \n",
    "    not_class_F1 = safe_divide(2 * not_class_prec * not_class_recall, not_class_prec + not_class_recall)\n",
    "    \n",
    "    return ( (class_prec, class_recall, class_F1), (not_class_prec, not_class_recall, not_class_F1) )\n",
    "\n",
    "def arange(start, stop, step):\n",
    "    cur_value = start\n",
    "    while True:\n",
    "        if cur_value > stop: break\n",
    "        yield cur_value\n",
    "        cur_value += step\n",
    "\n",
    "def plot_results(docs, min_threshold=-1, max_threshold=1, step=0.1, trace=False):\n",
    "    x = []\n",
    "    y_p = []\n",
    "    y_n = []\n",
    "    docs_predictions = classifier.predict_all(docs)\n",
    "    for threshold in arange(min_threshold, max_threshold, step):\n",
    "        r = calculate_metrics(docs_predictions, threshold)\n",
    "        x.append(threshold)\n",
    "        y_p.append(r[0])\n",
    "        y_n.append(r[1])        \n",
    "        if trace: \n",
    "            print('threshold %s' % threshold)\n",
    "            print('\\tclass_prec %s, class_recall %s, class_F1 %s' % r[0])\n",
    "            print('\\tnot_class_prec %s, not_class_recall %s, not_class_F1 %s' % r[1])\n",
    "            print('\\t\\tMacroF1Mesure %s' % ((r[0][2] + r[1][2])/2))\n",
    "    plot_stats(x, y_p, \"Class Result\")\n",
    "    plot_stats(x, y_n, \"Not class Result\")    \n",
    "\n",
    "\n",
    "def plot_stats(x, y, title):\n",
    "    plt.figure(figsize=(10, 5))\n",
    "\n",
    "    prec, = plt.plot( x, \n",
    "                     [k[0] for k in y], \"r\", label='Precision', \n",
    "                     linewidth=1)\n",
    "    accur, = plt.plot( x, \n",
    "                      [k[1] for k in y], \"b\", label='Recall',\n",
    "                      linewidth=1)\n",
    "    f1, =    plt.plot( x, \n",
    "                      [k[2] for k in y], \"g\", label='F1',\n",
    "                      linewidth=1)\n",
    "    plt.grid(True)\n",
    "    plt.legend(handles=[prec, accur, f1])\n",
    "    plt.title(title)\n",
    "    plt.show()"
   ]
  },
  {
   "cell_type": "code",
   "execution_count": 30,
   "metadata": {},
   "outputs": [
    {
     "name": "stdout",
     "output_type": "stream",
     "text": [
      "заголовок\n",
      "ololo\n",
      "спам\n",
      "1\n",
      "2\n",
      "3\n"
     ]
    }
   ],
   "source": [
    "test_html_data = u'''\n",
    "<html>\n",
    "<title> Заголовок Ololo </title>\n",
    "спам 1 2 3\n",
    "</html>\n",
    "'''\n",
    "test_url = 'http://ololo'\n",
    "test_words = list(html2word(test_html_data))\n",
    "for word in test_words:\n",
    "    print(word)"
   ]
  },
  {
   "cell_type": "code",
   "execution_count": 33,
   "metadata": {},
   "outputs": [],
   "source": [
    "DocItem = namedtuple('DocItem', ['doc_id', 'is_class', 'url', 'words'])\n",
    "\n",
    "def load_csv(input_file_name):    \n",
    "    \"\"\"\n",
    "    Загружаем данные и извлекаем на лету слова\n",
    "    Сам контент не сохраняется, чтобы уменьшить потребление памяти - чтобы\n",
    "    можно было запускать даже на ноутбуках в классе\n",
    "    \"\"\"\n",
    "    \n",
    "    with gzip.open(input_file_name) if input_file_name.endswith('gz') else open(input_file_name)  as input_file:            \n",
    "        headers = input_file.readline()\n",
    "        \n",
    "        for i, line in enumerate(input_file):\n",
    "            trace(i)\n",
    "            parts = line.decode().strip().split('\\t')\n",
    "            url_id = int(parts[0])                                        \n",
    "            mark = bool(int(parts[1]))                    \n",
    "            url = parts[2]\n",
    "            pageInb64 = parts[3]\n",
    "            html_data = base64.b64decode(pageInb64)\n",
    "            words = list(html2word(html_data))\n",
    "            yield DocItem(url_id, mark, url, words)            \n",
    "                \n",
    "        trace(i, 1)        "
   ]
  },
  {
   "cell_type": "markdown",
   "metadata": {},
   "source": [
    "** Обрабатываем входной файл **\n",
    "<br>\n",
    "Формат - поля разделенные табуляциями\n",
    "<br>\n",
    "0 - идентификатор документа\n",
    "<br>\n",
    "1 - метка класса 0 - не порно, 1 - порно\n",
    "<br>\n",
    "2 - урл документа\n",
    "<br>\n",
    "3 - документ в кодировке base64\n",
    "\n",
    "Выходной формат - массив кортежей вида\n",
    "(doc_id, is_class, url, html_data)"
   ]
  },
  {
   "cell_type": "code",
   "execution_count": 34,
   "metadata": {
    "scrolled": true
   },
   "outputs": [
    {
     "name": "stderr",
     "output_type": "stream",
     "text": [
      "20:05:30 INFO:Complete items 00000\n",
      "20:06:17 INFO:Complete items 00500\n",
      "20:07:00 INFO:Complete items 01000\n",
      "20:07:34 INFO:Complete items 01500\n",
      "20:08:06 INFO:Complete items 02000\n",
      "20:08:43 INFO:Complete items 02500\n",
      "20:09:20 INFO:Complete items 03000\n",
      "20:09:29 INFO:Complete items 03138\n"
     ]
    }
   ],
   "source": [
    "TRAIN_DATA_FILE  = 'kaggle_train_data_tab.csv.gz'\n",
    "train_docs = list(load_csv(TRAIN_DATA_FILE))"
   ]
  },
  {
   "cell_type": "markdown",
   "metadata": {},
   "source": [
    "** Классификатор: **\n",
    "Нужно реализовать"
   ]
  },
  {
   "cell_type": "code",
   "execution_count": 76,
   "metadata": {},
   "outputs": [],
   "source": [
    "import numpy as np\n",
    "from stop_words import get_stop_words\n",
    "\n",
    "stop_words = get_stop_words('en') + get_stop_words('ru')"
   ]
  },
  {
   "cell_type": "code",
   "execution_count": 77,
   "metadata": {},
   "outputs": [],
   "source": [
    "class Classifier:\n",
    "    \n",
    "    def __init__(self):\n",
    "        pass\n",
    "    \n",
    "    def predict_porno(self, doc):        \n",
    "        return u'порно' in doc.words\n",
    "    \n",
    "    def predict_random(self, doc):\n",
    "        #Чтобы для каждого документа рандом был детерминирован\n",
    "        random.seed(doc.doc_id)\n",
    "        return random.random()\n",
    "\n",
    "    def predict(self, doc):\n",
    "        pred = 0\n",
    "        for word in doc.words:\n",
    "            if word in self.words and self.words[word]['class'] != 0 and self.words[word]['not_class'] != 0:\n",
    "                pred += np.log(self.words[word]['class'] / self.words[word]['not_class'])\n",
    "        return pred / len(doc.words)\n",
    "        #return pred\n",
    "    \n",
    "    def predict_all(self, docs):\n",
    "        res = []\n",
    "        for doc_num, doc in enumerate(docs):\n",
    "            trace(doc_num)\n",
    "            prediction = self.predict(doc)            \n",
    "            res.append( (doc.doc_id, doc.is_class, doc.url, prediction) )\n",
    "        return res\n",
    "    \n",
    "    def train(self, docs): \n",
    "        C = 0\n",
    "        notC = 0\n",
    "        words = {}\n",
    "        for doc_num, doc in enumerate(docs):\n",
    "            c = False\n",
    "            if doc.is_class:\n",
    "                C += 1\n",
    "                c = True\n",
    "            else:\n",
    "                notC += 1\n",
    "            for word in doc.words:\n",
    "                if word in stop_words:\n",
    "                    continue\n",
    "                if word not in words:\n",
    "                    words[word] = {'class': 0, 'not_class': 0, 'total': 0}\n",
    "                words[word]['total'] += 1\n",
    "                if c:\n",
    "                    words[word]['class'] += 1\n",
    "                else:\n",
    "                    words[word]['not_class'] += 1\n",
    "            trace(doc_num)\n",
    "            \n",
    "        self.words = words\n",
    "        self.part = np.log(C / notC)\n",
    "        trace(doc_num, 1)"
   ]
  },
  {
   "cell_type": "code",
   "execution_count": 78,
   "metadata": {
    "scrolled": true
   },
   "outputs": [
    {
     "name": "stderr",
     "output_type": "stream",
     "text": [
      "20:54:36 INFO:Complete items 00000\n",
      "20:55:04 INFO:Complete items 00500\n",
      "20:55:28 INFO:Complete items 01000\n",
      "20:55:48 INFO:Complete items 01500\n",
      "20:56:05 INFO:Complete items 02000\n",
      "20:56:29 INFO:Complete items 02500\n",
      "20:56:52 INFO:Complete items 03000\n",
      "20:56:58 INFO:Complete items 03138\n"
     ]
    }
   ],
   "source": [
    "classifier = Classifier()\n",
    "classifier.train(train_docs)"
   ]
  },
  {
   "cell_type": "code",
   "execution_count": 79,
   "metadata": {},
   "outputs": [
    {
     "data": {
      "text/plain": [
       "-0.567864860740245"
      ]
     },
     "execution_count": 79,
     "metadata": {},
     "output_type": "execute_result"
    }
   ],
   "source": [
    "#Посмотреть, что предсказывается для тестового html\n",
    "classifier.predict(DocItem(0, 0, test_url , test_words))"
   ]
  },
  {
   "cell_type": "markdown",
   "metadata": {},
   "source": [
    "** Рисуем графики **"
   ]
  },
  {
   "cell_type": "code",
   "execution_count": 82,
   "metadata": {
    "scrolled": true
   },
   "outputs": [
    {
     "name": "stderr",
     "output_type": "stream",
     "text": [
      "21:01:40 INFO:Complete items 00000\n",
      "21:01:49 INFO:Complete items 00500\n",
      "21:01:57 INFO:Complete items 01000\n",
      "21:02:04 INFO:Complete items 01500\n",
      "21:02:10 INFO:Complete items 02000\n",
      "21:02:17 INFO:Complete items 02500\n",
      "21:02:25 INFO:Complete items 03000\n"
     ]
    },
    {
     "name": "stdout",
     "output_type": "stream",
     "text": [
      "threshold -0.6\n",
      "\tclass_prec 0.887459807073955, class_recall 0.9012244897959184, class_F1 0.8942891859052248\n",
      "\tnot_class_prec 0.9361477572559367, not_class_recall 0.9268547544409613, not_class_F1 0.9314780782357575\n",
      "\t\tMacroF1Mesure 0.9128836320704912\n",
      "threshold -0.595\n",
      "\tclass_prec 0.891869918699187, class_recall 0.8955102040816326, class_F1 0.8936863543788187\n",
      "\tnot_class_prec 0.9329491880565741, not_class_recall 0.9305120167189133, not_class_F1 0.9317290086319645\n",
      "\t\tMacroF1Mesure 0.9127076815053916\n",
      "threshold -0.59\n",
      "\tclass_prec 0.8976248976248976, class_recall 0.8946938775510204, class_F1 0.8961569910057235\n",
      "\tnot_class_prec 0.9327424400417101, not_class_recall 0.9346917450365726, not_class_F1 0.9337160751565762\n",
      "\t\tMacroF1Mesure 0.9149365330811499\n",
      "threshold -0.585\n",
      "\tclass_prec 0.8986820428336079, class_recall 0.8906122448979592, class_F1 0.8946289462894629\n",
      "\tnot_class_prec 0.9303896103896104, not_class_recall 0.9357366771159875, not_class_F1 0.9330554831987498\n",
      "\t\tMacroF1Mesure 0.9138422147441063\n",
      "threshold -0.58\n",
      "\tclass_prec 0.9022369511184756, class_recall 0.8889795918367347, class_F1 0.8955592105263158\n",
      "\tnot_class_prec 0.9296066252587992, not_class_recall 0.9383490073145245, not_class_F1 0.9339573582943317\n",
      "\t\tMacroF1Mesure 0.9147582844103237\n",
      "threshold -0.575\n",
      "\tclass_prec 0.9088628762541806, class_recall 0.8873469387755102, class_F1 0.8979760429574556\n",
      "\tnot_class_prec 0.9289758106021616, not_class_recall 0.9430512016718914, not_class_F1 0.9359605911330049\n",
      "\t\tMacroF1Mesure 0.9169683170452303\n",
      "threshold -0.57\n",
      "\tclass_prec 0.9125315391084945, class_recall 0.8857142857142857, class_F1 0.8989229494614747\n",
      "\tnot_class_prec 0.9282051282051282, not_class_recall 0.9456635318704284, not_class_F1 0.9368530020703932\n",
      "\t\tMacroF1Mesure 0.917887975765934\n",
      "threshold -0.565\n",
      "\tclass_prec 0.916243654822335, class_recall 0.8840816326530613, class_F1 0.8998753635230577\n",
      "\tnot_class_prec 0.9274399591211038, not_class_recall 0.9482758620689655, not_class_F1 0.9377421854817877\n",
      "\t\tMacroF1Mesure 0.9188087745024227\n",
      "threshold -0.5599999999999999\n",
      "\tclass_prec 0.9207836456558773, class_recall 0.8824489795918368, class_F1 0.9012088370154231\n",
      "\tnot_class_prec 0.9267175572519084, not_class_recall 0.95141065830721, not_class_F1 0.9389017788089715\n",
      "\t\tMacroF1Mesure 0.9200553079121974\n",
      "threshold -0.5549999999999999\n",
      "\tclass_prec 0.9252577319587629, class_recall 0.8791836734693877, class_F1 0.9016324822101297\n",
      "\tnot_class_prec 0.9250632911392405, not_class_recall 0.9545454545454546, not_class_F1 0.9395731550527128\n",
      "\t\tMacroF1Mesure 0.9206028186314212\n",
      "threshold -0.5499999999999999\n",
      "\tclass_prec 0.9282627484874676, class_recall 0.876734693877551, class_F1 0.9017632241813602\n",
      "\tnot_class_prec 0.9238143289606459, not_class_recall 0.9566353187042842, not_class_F1 0.9399383983572894\n",
      "\t\tMacroF1Mesure 0.9208508112693248\n",
      "threshold -0.5449999999999999\n",
      "\tclass_prec 0.9287576020851434, class_recall 0.8726530612244898, class_F1 0.8998316498316499\n",
      "\tnot_class_prec 0.9215291750503019, not_class_recall 0.9571577847439916, not_class_F1 0.9390056381342902\n",
      "\t\tMacroF1Mesure 0.91941864398297\n",
      "threshold -0.5399999999999999\n",
      "\tclass_prec 0.9319965126416739, class_recall 0.8726530612244898, class_F1 0.9013490725126475\n",
      "\tnot_class_prec 0.9216867469879518, not_class_recall 0.9592476489028213, not_class_F1 0.9400921658986175\n",
      "\t\tMacroF1Mesure 0.9207206192056325\n",
      "threshold -0.5349999999999999\n",
      "\tclass_prec 0.9342105263157895, class_recall 0.8693877551020408, class_F1 0.9006342494714588\n",
      "\tnot_class_prec 0.919959979989995, not_class_recall 0.9608150470219435, not_class_F1 0.9399437771530794\n",
      "\t\tMacroF1Mesure 0.9202890133122691\n",
      "threshold -0.5299999999999999\n",
      "\tclass_prec 0.9381078691423519, class_recall 0.8661224489795918, class_F1 0.900679117147708\n",
      "\tnot_class_prec 0.9183266932270916, not_class_recall 0.9634273772204807, not_class_F1 0.9403365629780724\n",
      "\t\tMacroF1Mesure 0.9205078400628902\n",
      "threshold -0.5249999999999999\n",
      "\tclass_prec 0.9376114081996435, class_recall 0.8587755102040816, class_F1 0.8964635705155517\n",
      "\tnot_class_prec 0.9142290530490828, not_class_recall 0.9634273772204807, not_class_F1 0.9381836682777919\n",
      "\t\tMacroF1Mesure 0.9173236193966718\n",
      "threshold -0.5199999999999999\n",
      "\tclass_prec 0.9374441465594281, class_recall 0.856326530612245, class_F1 0.8950511945392492\n",
      "\tnot_class_prec 0.9128712871287129, not_class_recall 0.9634273772204807, not_class_F1 0.9374682257244534\n",
      "\t\tMacroF1Mesure 0.9162597101318513\n",
      "threshold -0.5149999999999999\n",
      "\tclass_prec 0.9396396396396396, class_recall 0.8514285714285714, class_F1 0.8933618843683083\n",
      "\tnot_class_prec 0.9103006407097092, not_class_recall 0.9649947753396029, not_class_F1 0.9368501141262997\n",
      "\t\tMacroF1Mesure 0.9151059992473041\n",
      "threshold -0.5099999999999999\n",
      "\tclass_prec 0.9437386569872959, class_recall 0.8489795918367347, class_F1 0.893854748603352\n",
      "\tnot_class_prec 0.9091801669121257, not_class_recall 0.96760710553814, not_class_F1 0.9374841812199443\n",
      "\t\tMacroF1Mesure 0.9156694649116481\n",
      "threshold -0.5049999999999999\n",
      "\tclass_prec 0.9452054794520548, class_recall 0.8448979591836735, class_F1 0.8922413793103448\n",
      "\tnot_class_prec 0.9070450097847358, not_class_recall 0.9686520376175548, not_class_F1 0.9368367862556846\n",
      "\t\tMacroF1Mesure 0.9145390827830147\n"
     ]
    },
    {
     "data": {
      "image/png": "[encoded data removed]",
      "text/plain": [
       "<matplotlib.figure.Figure at 0x7f51d341f908>"
      ]
     },
     "metadata": {
      "needs_background": "light"
     },
     "output_type": "display_data"
    },
    {
     "data": {
      "image/png": "[encoded data removed]",
      "text/plain": [
       "<matplotlib.figure.Figure at 0x7f51debfe978>"
      ]
     },
     "metadata": {
      "needs_background": "light"
     },
     "output_type": "display_data"
    }
   ],
   "source": [
    "plot_results(train_docs, min_threshold=-0.6, max_threshold=-0.5, step=0.005, trace=1)"
   ]
  },
  {
   "cell_type": "code",
   "execution_count": 83,
   "metadata": {},
   "outputs": [
    {
     "name": "stderr",
     "output_type": "stream",
     "text": [
      "21:03:08 INFO:Complete items 00000\n",
      "21:03:08 INFO:Complete items 00000\n",
      "21:03:57 INFO:Complete items 00500\n",
      "21:03:57 INFO:Complete items 00500\n",
      "21:04:43 INFO:Complete items 01000\n",
      "21:04:43 INFO:Complete items 01000\n",
      "21:04:49 INFO:Complete items 01075\n"
     ]
    }
   ],
   "source": [
    "TEST_DATA_FILE  = 'kaggle_test_data_tab.csv.gz'\n",
    "\n",
    "test_docs = load_csv(TEST_DATA_FILE)\n",
    "\n",
    "threshold = -0.54\n",
    "\n",
    "with open('my_submission.csv' , 'w') as fout:\n",
    "    writer = csv.writer(fout)\n",
    "    writer.writerow(['Id','Prediction'])\n",
    "    for item in classifier.predict_all(test_docs):\n",
    "        prediction =  1 if item[3] > threshold else 0\n",
    "        writer.writerow([item[0], prediction])"
   ]
  },
  {
   "cell_type": "code",
   "execution_count": null,
   "metadata": {},
   "outputs": [],
   "source": []
  }
 ],
 "metadata": {
  "anaconda-cloud": {},
  "kernelspec": {
   "display_name": "Python 3",
   "language": "python",
   "name": "python3"
  },
  "language_info": {
   "codemirror_mode": {
    "name": "ipython",
    "version": 3
   },
   "file_extension": ".py",
   "mimetype": "text/x-python",
   "name": "python",
   "nbconvert_exporter": "python",
   "pygments_lexer": "ipython3",
   "version": "3.6.6"
  }
 },
 "nbformat": 4,
 "nbformat_minor": 1
}
